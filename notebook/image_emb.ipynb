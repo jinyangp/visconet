{
 "cells": [
  {
   "cell_type": "code",
   "execution_count": 1,
   "id": "578b452a",
   "metadata": {},
   "outputs": [],
   "source": [
    "import torch\n",
    "import torch.nn as nn\n",
    "from functools import partial\n",
    "import clip\n",
    "from einops import rearrange, repeat\n",
    "\n",
    "from glob import glob\n",
    "from PIL import Image\n",
    "from torchvision import transforms as T\n",
    "from tqdm import tqdm\n",
    "import pickle\n",
    "from pathlib import Path\n",
    "import numpy as np"
   ]
  },
  {
   "cell_type": "code",
   "execution_count": 20,
   "id": "99eee015",
   "metadata": {},
   "outputs": [
    {
     "data": {
      "text/plain": [
       "torch.Size([2, 8, 257, 1024])"
      ]
     },
     "execution_count": 20,
     "metadata": {},
     "output_type": "execute_result"
    }
   ],
   "source": [
    "batch_size = 2\n",
    "style_size = 8\n",
    "avg_size = 8\n",
    "local_emb_size = 257\n",
    "local_emb_dim = 1024\n",
    "emb_dim = 1024\n",
    "\n",
    "# [2, 8, 257, 1024] to [2, 77, 1024]\n",
    "# [2, 8, 257, 1024] -> [2, 8, 8, 1024]\n",
    "# [257, 1024] to [8, 1024]\n",
    "# \n",
    "x = torch.randn((batch_size, style_size, local_emb_size, local_emb_dim))\n",
    "x.shape"
   ]
  },
  {
   "cell_type": "code",
   "execution_count": 21,
   "id": "6248942b",
   "metadata": {},
   "outputs": [
    {
     "name": "stdout",
     "output_type": "stream",
     "text": [
      "torch.Size([2, 8192, 257])\n",
      "torch.Size([2, 8, 1024, 257])\n",
      "torch.Size([2, 8, 1024, 8])\n",
      "torch.Size([2, 64, 1024])\n"
     ]
    }
   ],
   "source": [
    "\n",
    "b, n, c, d = x.shape\n",
    "print(batch.shape)\n",
    "# reaarange [2, 8, 257, 1024] to [2, 8, 1024, 257]\n",
    "batch = rearrange(x, 'b n c d -> b n d c')\n",
    "print(batch.shape)\n",
    "# linear (257, 8) to create [2, 8, 1024, 8]\n",
    "batch = nn.Linear(c, avg_size)(batch)\n",
    "print(batch.shape)\n",
    "# reaarange [2, 8, 1024, 8] to [2, 8x8, 1024]\n",
    "batch = rearrange(batch, 'b n c avg_size -> b (n avg_size) c')\n",
    "print(batch.shape)"
   ]
  },
  {
   "cell_type": "code",
   "execution_count": null,
   "id": "7da739be",
   "metadata": {},
   "outputs": [],
   "source": [
    "class MultiHeadAttention(nn.Module):\n",
    "    def __init__(self, num_heads: int, dim_in: int, dim_q: int, dim_k: int):\n",
    "        super().__init__()\n",
    "        self.heads = nn.ModuleList(\n",
    "            [AttentionHead(dim_in, dim_q, dim_k) for _ in range(num_heads)]\n",
    "        )\n",
    "        self.linear = nn.Linear(num_heads * dim_k, dim_in)\n",
    "\n",
    "    def forward(self, query: Tensor, key: Tensor, value: Tensor) -> Tensor:\n",
    "        return self.linear(\n",
    "            torch.cat([h(query, key, value) for h in self.heads], dim=-1)\n",
    "        )"
   ]
  },
  {
   "cell_type": "code",
   "execution_count": 10,
   "id": "2912581d",
   "metadata": {},
   "outputs": [
    {
     "data": {
      "text/plain": [
       "torch.Size([2, 8, 257, 1024])"
      ]
     },
     "execution_count": 10,
     "metadata": {},
     "output_type": "execute_result"
    }
   ],
   "source": [
    "out = nn.Linear(1024, 1024)(x)\n",
    "out.shape"
   ]
  },
  {
   "cell_type": "code",
   "execution_count": 4,
   "id": "eec12510",
   "metadata": {},
   "outputs": [
    {
     "data": {
      "text/plain": [
       "torch.Size([2, 8, 257])"
      ]
     },
     "execution_count": 4,
     "metadata": {},
     "output_type": "execute_result"
    }
   ],
   "source": [
    "x.shape"
   ]
  },
  {
   "cell_type": "code",
   "execution_count": null,
   "id": "1536ece0",
   "metadata": {},
   "outputs": [],
   "source": []
  },
  {
   "cell_type": "code",
   "execution_count": 17,
   "id": "f2bb2655",
   "metadata": {},
   "outputs": [],
   "source": [
    "device = 'cuda:0'\n",
    "\n",
    "clip_norm = T.Normalize(mean=(0.48145466, 0.4578275, 0.40821073), \n",
    "                        std=(0.26862954, 0.26130258, 0.27577711))\n",
    "clip_transform = T.Compose([T.ToTensor(),\n",
    "                            clip_norm])\n"
   ]
  },
  {
   "cell_type": "code",
   "execution_count": 1,
   "id": "28344bd0",
   "metadata": {},
   "outputs": [],
   "source": [
    "\n",
    "class ClipImageEncoder(nn.Module):\n",
    "    \"\"\"\n",
    "        Uses the CLIP image encoder.\n",
    "        \"\"\"\n",
    "    def __init__(\n",
    "            self,\n",
    "            model='ViT-L/14',\n",
    "            context_dim=None,\n",
    "            jit=False,\n",
    "            device='cuda',\n",
    "        ):\n",
    "        super().__init__()\n",
    "        self.model, _ = clip.load(name=model, device=device, jit=jit)\n",
    "\n",
    "        self.model = self.model.eval()\n",
    "        for param in self.parameters():\n",
    "            param.requires_grad = False\n",
    "            \n",
    "    @torch.no_grad()\n",
    "    def extract_features(self, x):\n",
    "        b, n, c, h, w = x.shape\n",
    "\n",
    "        return ret\n",
    "            \n",
    "    def forward(self, x):\n",
    "        b, n, c, h, w = x.shape\n",
    "        batch = rearrange(x, 'b n c h w -> (b n) c h w ')\n",
    "        ret = self.model.encode_image(batch)        \n",
    "        return rearrange(ret, '(b n) w -> b n w ', b=b, n=n)\n"
   ]
  },
  {
   "cell_type": "code",
   "execution_count": 23,
   "id": "0ea08e1d",
   "metadata": {},
   "outputs": [],
   "source": [
    "encoder = ClipImageEncoder()\n",
    "encoder = encoder.to(device)"
   ]
  },
  {
   "cell_type": "code",
   "execution_count": 2,
   "id": "2aa3dfdc",
   "metadata": {},
   "outputs": [],
   "source": [
    "style_files = glob(\"/home/soon/datasets/deepfashion_inshop/styles/**/*.jpg\", recursive=True)"
   ]
  },
  {
   "cell_type": "code",
   "execution_count": 39,
   "id": "f59d4b23",
   "metadata": {},
   "outputs": [
    {
     "name": "stderr",
     "output_type": "stream",
     "text": [
      "100%|██████████████████████████████████████| 1/1 [00:00<00:00, 90.59it/s]\n"
     ]
    }
   ],
   "source": [
    "for style_file in tqdm(style_files[:]):\n",
    "    style_image = Image.open(style_file)\n",
    "    x = clip_transform(style_image).unsqueeze(0).unsqueeze(0).to(device)    \n",
    "    emb = encoder(x).detach().cpu().squeeze(0).numpy()\n",
    "    emb_file = style_file.replace('.jpg','.p')\n",
    "    with open(emb_file, 'wb') as file:\n",
    "        pickle.dump(emb, file)    "
   ]
  },
  {
   "cell_type": "code",
   "execution_count": 3,
   "id": "c416d357",
   "metadata": {},
   "outputs": [
    {
     "data": {
      "text/plain": [
       "'/home/soon/datasets/deepfashion_inshop/styles/MEN/Suiting/id_00005928/01/1_front/hair.jpg'"
      ]
     },
     "execution_count": 3,
     "metadata": {},
     "output_type": "execute_result"
    }
   ],
   "source": [
    "style_files[0]"
   ]
  },
  {
   "cell_type": "code",
   "execution_count": 5,
   "id": "a1448634",
   "metadata": {},
   "outputs": [],
   "source": [
    "folder = '/home/soon/datasets/deepfashion_inshop/styles/MEN/Suiting/id_00005928/01/1_front/'\n",
    "style_names = ['face', 'hair', 'headwear', 'background', 'top', 'outer', 'bottom', 'shoes', 'accesories']\n"
   ]
  },
  {
   "cell_type": "code",
   "execution_count": 37,
   "id": "381b277d",
   "metadata": {},
   "outputs": [],
   "source": [
    "style_embeddings = []\n",
    "for style_name in style_names:\n",
    "    f_path = Path(folder)/f'{style_name}.p'\n",
    "    if f_path.exists():\n",
    "        with open(f_path, 'rb') as file:\n",
    "            style_emb = pickle.load(file)\n",
    "    else:\n",
    "        style_emb = np.zeros((1,768), dtype=np.float16)\n",
    "    style_embeddings.append(style_emb)\n",
    "styles = torch.tensor(style_embeddings).squeeze(-2)"
   ]
  },
  {
   "cell_type": "code",
   "execution_count": 39,
   "id": "98234fa7",
   "metadata": {},
   "outputs": [],
   "source": [
    "layer = nn.Linear(768, 4)"
   ]
  },
  {
   "cell_type": "code",
   "execution_count": 41,
   "id": "581b1b9c",
   "metadata": {},
   "outputs": [],
   "source": [
    "x = np.zeros((3,9,768))"
   ]
  },
  {
   "cell_type": "code",
   "execution_count": 45,
   "id": "e8f85885",
   "metadata": {},
   "outputs": [
    {
     "data": {
      "text/plain": [
       "torch.Size([3, 9, 4])"
      ]
     },
     "execution_count": 45,
     "metadata": {},
     "output_type": "execute_result"
    }
   ],
   "source": [
    "layer(torch.tensor(x.astype(np.float32))).shape"
   ]
  },
  {
   "cell_type": "code",
   "execution_count": null,
   "id": "df55af04",
   "metadata": {},
   "outputs": [],
   "source": []
  },
  {
   "cell_type": "code",
   "execution_count": null,
   "id": "45a7f089",
   "metadata": {},
   "outputs": [],
   "source": [
    "            style_images = []\n",
    "            for style_name in self.style_names:\n",
    "                f_path = full_styles_path/f'{style_name}.jpg'\n",
    "                if f_path.exists() and not drop_style:\n",
    "                    style_image = self.clip_transform((Image.open(f_path)))\n",
    "                else:\n",
    "                    style_image = self.clip_norm(torch.zeros(3, 224, 224))\n",
    "                style_images.append(style_image)\n",
    "            style_images = torch.stack(style_images) "
   ]
  }
 ],
 "metadata": {
  "kernelspec": {
   "display_name": "ldm",
   "language": "python",
   "name": "ldm"
  },
  "language_info": {
   "codemirror_mode": {
    "name": "ipython",
    "version": 3
   },
   "file_extension": ".py",
   "mimetype": "text/x-python",
   "name": "python",
   "nbconvert_exporter": "python",
   "pygments_lexer": "ipython3",
   "version": "3.8.5"
  }
 },
 "nbformat": 4,
 "nbformat_minor": 5
}

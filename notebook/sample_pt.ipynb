{
 "cells": [
  {
   "cell_type": "code",
   "execution_count": 81,
   "id": "e552bb31",
   "metadata": {},
   "outputs": [],
   "source": [
    "from share import *\n",
    "import config\n",
    "import os\n",
    "import cv2\n",
    "import einops\n",
    "import numpy as np\n",
    "import torch\n",
    "import random\n",
    "import pickle\n",
    "\n",
    "from torch.utils.data import DataLoader\n",
    "from pytorch_lightning import seed_everything\n",
    "from cldm.model import create_model, load_state_dict\n",
    "from cldm.ddim_hacked import DDIMSampler\n",
    "from pathlib import Path\n",
    "\n",
    "from omegaconf import OmegaConf\n",
    "from ldm.util import instantiate_from_config\n",
    "from PIL import Image\n",
    "import matplotlib.pyplot as plt\n",
    "\n",
    "\n",
    "from pytorch_lightning import seed_everything\n",
    "from annotator.util import resize_image, HWC3\n",
    "from annotator.openpose import OpenposeDetector\n",
    "from cldm.model import create_model, load_state_dict\n",
    "from cldm.ddim_hacked import DDIMSampler\n",
    "from pathlib import Path\n",
    "\n",
    "from omegaconf import OmegaConf\n",
    "from ldm.util import instantiate_from_config\n",
    "from PIL import Image\n",
    "from torchvision import transforms as T\n",
    "from tqdm import tqdm"
   ]
  },
  {
   "cell_type": "code",
   "execution_count": 2,
   "id": "38a17f99",
   "metadata": {},
   "outputs": [],
   "source": [
    "config_file = './configs/pose_transfer.yaml'\n",
    "model_ckpt = './lightning_logs/inshop_local_style/epoch=1-step=24952-v1.ckpt'\n",
    "\n",
    "\n",
    "device = 'cuda:1'\n",
    "\n",
    "batch_size = 2\n",
    "ddim_steps = 20\n",
    "eta = 0.0\n",
    "scale = 9.0\n",
    "H, W, C = 512, 512, 3\n",
    "shape = (4, H // 8, W // 8)\n",
    "\n",
    "n_prompt = 'longbody, lowres, bad anatomy, bad hands, missing fingers, extra digit, fewer digits, cropped, worst quality, low quality'\n",
    "a_prompt = 'best quality, extremely detailed'"
   ]
  },
  {
   "cell_type": "code",
   "execution_count": 22,
   "id": "a0bbad91",
   "metadata": {},
   "outputs": [],
   "source": [
    "import re\n",
    "\n",
    "def convert_fname(long_name):\n",
    "    gender = 'MEN' if long_name[7:10]  == 'MEN' else 'WOMEN'\n",
    "\n",
    "    input_list = long_name.replace('fashion','').split('___')\n",
    "    \n",
    "    # Define a regular expression pattern to match the relevant parts of each input string\n",
    "    if gender == 'MEN':\n",
    "        pattern = r'MEN(\\w+)id(\\d+)_(\\d)(\\w+)'\n",
    "    else:\n",
    "        pattern = r'WOMEN(\\w+)id(\\d+)_(\\d)(\\w+)'\n",
    "    # Use a list comprehension to extract the matching substrings from each input string, and format them into the desired output format\n",
    "    output_list = [f'{gender}/{category}/id_{id_num[:8]}/{id_num[8:]}_{view_num}_{view_desc}' for (category, id_num, view_num, view_desc) in re.findall(pattern, ' '.join(input_list))]\n",
    "\n",
    "    # Print the resulting list of formatted strings\n",
    "    return [f +'.jpg' for f in output_list]\n",
    "\n",
    "\n",
    "def encode_style_images(full_styles_path):\n",
    "    #full_styles_path = Path('./style_images')\n",
    "    #style_names = ['face', 'hair', 'headwear', 'background', 'top', 'outer', 'bottom', 'shoes', 'accesories']\n",
    "    style_embeddings = []\n",
    "    for style_name in style_names:\n",
    "        f_path = full_styles_path/f'{style_name}.jpg'\n",
    "        #if not os.path.exists(str(f_path)):\n",
    "        #    print(f'{str(f_path)} not found')                            \n",
    "        style_image = style_encoder.preprocess(str(f_path)).to(device)\n",
    "        style_emb = style_encoder.postprocess(style_encoder(style_image))\n",
    "        style_embeddings.append(style_emb)\n",
    "    styles = torch.tensor(np.array(style_embeddings)).squeeze(-2).unsqueeze(0).float().to(device)\n",
    "    return styles"
   ]
  },
  {
   "cell_type": "code",
   "execution_count": 3,
   "id": "5668ff97",
   "metadata": {},
   "outputs": [
    {
     "name": "stdout",
     "output_type": "stream",
     "text": [
      "No module 'xformers'. Proceeding without it.\n",
      "ViscoNetLDM: Running in eps-prediction mode\n",
      "DiffusionWrapper has 865.91 M params.\n",
      "making attention of type 'vanilla' with 512 in_channels\n",
      "Working with z of shape (1, 4, 32, 32) = 4096 dimensions.\n",
      "making attention of type 'vanilla' with 512 in_channels\n",
      "Loaded model config from [./configs/pose_transfer.yaml]\n",
      "Loaded state_dict from [./lightning_logs/inshop_local_style/epoch=1-step=24952-v1.ckpt]\n"
     ]
    }
   ],
   "source": [
    "model = create_model(config_file).cpu()\n",
    "model.load_state_dict(load_state_dict(model_ckpt, location=device))\n",
    "model.cond_stage_model.device = device\n",
    "model = model.to(device)\n",
    "\n",
    "ddim_sampler = DDIMSampler(model)"
   ]
  },
  {
   "cell_type": "code",
   "execution_count": 16,
   "id": "8e2e4532",
   "metadata": {},
   "outputs": [],
   "source": [
    "proj_config = OmegaConf.load(config_file)\n",
    "style_names = proj_config.dataset.train.params.style_names\n",
    "style_encoder = instantiate_from_config(proj_config.model.style_embedding_config).to(device)\n",
    "\n",
    "data_root = Path(proj_config.dataset.train.params.image_root)\n",
    "image_root = data_root/proj_config.dataset.train.params.image_dir\n",
    "style_root = data_root/proj_config.dataset.train.params.style_dir\n",
    "pose_root = data_root/proj_config.dataset.train.params.pose_dir\n",
    "mask_root = data_root/proj_config.dataset.train.params.mask_dir\n"
   ]
  },
  {
   "cell_type": "code",
   "execution_count": 11,
   "id": "15bee9de",
   "metadata": {},
   "outputs": [],
   "source": [
    "#pose_image = np.array(Image.open('./test_samples/skeleton.png'))\n",
    "#mask_image = np.array(Image.open('./test_samples/mask.png'))"
   ]
  },
  {
   "cell_type": "code",
   "execution_count": 59,
   "id": "34b02d0d",
   "metadata": {},
   "outputs": [],
   "source": [
    "def process(input_image, prompt, a_prompt, n_prompt, num_samples, image_resolution, detect_resolution, \n",
    "            ddim_steps, guess_mode, strength, scale, seed, eta, mask_enables, mask_image, pose_image, df_longname):    \n",
    "    \n",
    "    with torch.no_grad():\n",
    "        src_name, dst_name = convert_fname(df_longname)\n",
    "        \n",
    "        # read pose and mask from dst\n",
    "        import pdb\n",
    "\n",
    "        pose_image = np.array(Image.open(str(pose_root/dst_name)))\n",
    "        mask_image = Image.open(str(mask_root/dst_name).replace('.jpg','_mask.png'))\n",
    "        \n",
    "        mask = T.ToTensor()(T.Resize([image_resolution]*2, T.InterpolationMode.NEAREST)(mask_image))\n",
    "        #mask = torch.tensor(mask_image.mean(-1)/255.,dtype=torch.float) #(512,512), [0,1]\n",
    "        mask = mask.unsqueeze(0).to(device) # (1, 512, 512)\n",
    "        input_image = np.array(Image.open(image_root/dst_name))\n",
    "        # read style from src\n",
    "\n",
    "        temp = src_name.replace('.jpg','').split('/')\n",
    "        lastfolder = temp.pop(-1).replace('_','/', 1)\n",
    "        style_folder = '/'.join(temp+[lastfolder])\n",
    "        style_emb = encode_style_images(style_root/style_folder)\n",
    "        src_image = np.array(Image.open(image_root/src_name))\n",
    "        #mask = torch.tensor(mask_image.mean(-1)/255.,dtype=torch.float) #(512,512), [0,1]\n",
    "        #mask = mask.unsqueeze(0).to(device) # (1, 512, 512)\n",
    "        #style_emb = get_style_embeddings(style_folder).to(device)\n",
    "        #style_emb = encode_style_images(style_root/src_name)\n",
    "\n",
    "        input_image = HWC3(input_image)\n",
    "        #detected_map, _ = apply_openpose(resize_image(input_image, detect_resolution))\n",
    "        #detected_map = HWC3(detected_map)\n",
    "        img = resize_image(input_image, image_resolution)\n",
    "        H, W, C = img.shape\n",
    "\n",
    "        # fix me\n",
    "        detected_map = HWC3(pose_image)\n",
    "        detected_map = cv2.resize(detected_map, (W, H), interpolation=cv2.INTER_NEAREST)\n",
    "\n",
    "        control = torch.from_numpy(detected_map.copy()).float().to(device) / 255.0\n",
    "        control = torch.stack([control for _ in range(num_samples)], dim=0)\n",
    "        control = einops.rearrange(control, 'b h w c -> b c h w').clone()\n",
    "\n",
    "        if seed == -1:\n",
    "            seed = random.randint(0, 65535)\n",
    "        seed_everything(seed)\n",
    "\n",
    "        if config.save_memory:\n",
    "            model.low_vram_shift(is_diffusing=False)\n",
    "\n",
    "        cond = {\"c_concat\": [control], \n",
    "                \"c_crossattn\": [style_emb.repeat(num_samples, 1, 1, 1)],\n",
    "                \"c_text\": [model.get_learned_conditioning([prompt + ', ' + a_prompt] * num_samples)],\n",
    "                'c_concat_mask': [mask.repeat(num_samples, 1, 1, 1)]}\n",
    "\n",
    "        un_cond = {\"c_concat\": [control], \n",
    "                   \"c_crossattn\": [torch.zeros_like(style_emb).repeat(num_samples, 1, 1, 1)],\n",
    "                   \"c_text\":[model.get_learned_conditioning([n_prompt] * num_samples)],\n",
    "                   'c_concat_mask': [torch.zeros_like(mask).repeat(num_samples, 1, 1, 1)]}\n",
    "\n",
    "        shape = (4, H // 8, W // 8)\n",
    "\n",
    "        if config.save_memory:\n",
    "            model.low_vram_shift(is_diffusing=True)\n",
    "        if guess_mode:\n",
    "            model.control_scales = [strength * (0.825 ** float(12 - i)) for i in range(13)] if guess_mode else ([strength] * 13)  # Magic number. IDK why. Perhaps because 0.825**12<0.01 but 0.826**12>0.01\n",
    "            print(model.control_scales)\n",
    "        else:\n",
    "            model.control_scales = [float(x) for x in strength.split(',')]\n",
    "        model.mask_enables = [int(x) for x in mask_enables.split(',')]\n",
    "\n",
    "        samples, intermediates = ddim_sampler.sample(ddim_steps, num_samples,\n",
    "                                                     shape, cond, verbose=False, eta=eta,\n",
    "                                                     unconditional_guidance_scale=scale,\n",
    "                                                     unconditional_conditioning=un_cond)\n",
    "\n",
    "        if config.save_memory:\n",
    "            model.low_vram_shift(is_diffusing=False)\n",
    "\n",
    "        x_samples = model.decode_first_stage(samples)\n",
    "        x_samples = (einops.rearrange(x_samples, 'b c h w -> b h w c') * 127.5 + 127.5).cpu().numpy().clip(0, 255).astype(np.uint8)\n",
    "\n",
    "        results = [Image.fromarray(x_samples[i]) for i in range(num_samples)]\n",
    "        return results\n",
    "        #ret_images = [np.array(mask_image), detected_map, src_image, input_image] +  results\n",
    "        #return ret_images\n",
    "        #crop \n",
    "        #return [img[:,80:-80,:] for img in ret_images]\n",
    "        \n",
    "    return "
   ]
  },
  {
   "cell_type": "code",
   "execution_count": 70,
   "id": "d5038122",
   "metadata": {},
   "outputs": [],
   "source": [
    "input_image=None\n",
    "a_prompt='best quality, extremely detailed'\n",
    "n_prompt='longbody, lowres, bad anatomy, bad hands, missing fingers, extra digit, fewer digits, cropped, worst quality, low quality'\n",
    "num_samples=5\n",
    "image_resolution=512\n",
    "detect_resolution=512\n",
    "ddim_steps=20\n",
    "guess_mode=False\n",
    "scale=9.0\n",
    "seed=-1\n",
    "eta=0.0\n",
    "mask_enables=\"1,1,1,1,1,1,1,1,1,1,1,1,1\"\n",
    "mask_image=None\n",
    "pose_image=None\n",
    "df_longname=\"fashionWOMENBlouses_Shirtsid0000035501_1front___fashionWOMENBlouses_Shirtsid0000035501_1front\""
   ]
  },
  {
   "cell_type": "code",
   "execution_count": 76,
   "id": "ca7fd5dc",
   "metadata": {},
   "outputs": [],
   "source": [
    "DEFAULT_BASELINE_STRENGTH = '0,0,0,0,0,0,0,0,0.5,0,0,0,0'\n",
    "\n",
    "baseline_strength={\n",
    "    #\"realistic\":\"1,1,1,1,1,1,1,1,1,1,1,1,1\",\n",
    "    \"realistic\":\"1,1,1,1,1,1,1,1,1,1,1,1,1\",\n",
    "    \"picasso painting\":DEFAULT_BASELINE_STRENGTH,\n",
    "    \"van gogh\":DEFAULT_BASELINE_STRENGTH,\n",
    "    \"oil painting\":DEFAULT_BASELINE_STRENGTH,\n",
    "    \"stained glass\":DEFAULT_BASELINE_STRENGTH,\n",
    "    \"ukiyoe drawing\":DEFAULT_BASELINE_STRENGTH,\n",
    "    \"computer graphics\":DEFAULT_BASELINE_STRENGTH,\n",
    "    \"cyberpunk japanese anime\":DEFAULT_BASELINE_STRENGTH,\n",
    "    \"grunge street art\":DEFAULT_BASELINE_STRENGTH,\n",
    "    'color sketch':DEFAULT_BASELINE_STRENGTH,\n",
    "    'Disney cartoon':DEFAULT_BASELINE_STRENGTH,     \n",
    "}\n",
    "\n",
    "DEFAULT_CLOTHING_STRENGTH = '0.1,0.1,0.1,0.2,0.2,0.2,0.2,0.3,0.4,0,0,0,0'\n",
    "clothing_strength={\n",
    "    #\"realistic\":\"1,1,1,1,1,1,1,1,1,1,1,1,1\",\n",
    "    \"realistic\":DEFAULT_CLOTHING_STRENGTH,\n",
    "    \"picasso painting\":'0,0,0.0,0.5,0.5,0.5,0.5,0.5,0.5,0,0,0,0,0',\n",
    "    \"van gogh\":'0,0,0.0,0.5,0.5,0.5,0.5,0.5,0.5,0,0,0,0,0',\n",
    "    \"oil painting\":'0,0,0.0,0.5,0.5,0.5,0.5,0.5,0.5,0,0,0,0,0',\n",
    "    \"stained glass\":'1,1,1,0.5,0.5,0.5,0.5,0.5,0.5,0,0,0,0,0',\n",
    "    \"ukiyoe drawing\":'1,1,1,1,1,0.5,0.5,0.5,0.5,0,0,0,0,0',\n",
    "    \"computer graphics\":DEFAULT_CLOTHING_STRENGTH,\n",
    "    \"cyberpunk japanese anime\":DEFAULT_CLOTHING_STRENGTH,\n",
    "    \"grunge street art\":DEFAULT_CLOTHING_STRENGTH,\n",
    "    'color sketch':DEFAULT_CLOTHING_STRENGTH,\n",
    "    'Disney cartoon':DEFAULT_CLOTHING_STRENGTH,     \n",
    "}\n",
    "\n",
    "\n",
    "image_styles = list(clothing_strength.keys())\n",
    "person_texts=[\"a woman, \",\n",
    "              \"a woman, standing in a jungle\"]\n",
    "subfolders=[\"baseline\", \"mode\"]\n"
   ]
  },
  {
   "cell_type": "code",
   "execution_count": 77,
   "id": "371d88ea",
   "metadata": {},
   "outputs": [],
   "source": [
    "output_dir = Path('./test_output_control/')\n",
    "total_samples = 100\n",
    "n_loops = total_samples//num_samples"
   ]
  },
  {
   "cell_type": "code",
   "execution_count": 78,
   "id": "5a5c1df0",
   "metadata": {},
   "outputs": [
    {
     "name": "stderr",
     "output_type": "stream",
     "text": [
      "Global seed set to 358\n"
     ]
    },
    {
     "name": "stdout",
     "output_type": "stream",
     "text": [
      "realistic\n",
      "a woman, ,realistic\n",
      "Data shape for DDIM sampling is (5, 4, 64, 64), eta 0.0\n",
      "Running DDIM Sampling with 20 timesteps\n"
     ]
    },
    {
     "name": "stderr",
     "output_type": "stream",
     "text": [
      "DDIM Sampler: 100%|█| 20/20 [00:15<00:\n",
      "Global seed set to 31411\n"
     ]
    },
    {
     "name": "stdout",
     "output_type": "stream",
     "text": [
      "Data shape for DDIM sampling is (5, 4, 64, 64), eta 0.0\n",
      "Running DDIM Sampling with 20 timesteps\n"
     ]
    },
    {
     "name": "stderr",
     "output_type": "stream",
     "text": [
      "DDIM Sampler: 100%|█| 20/20 [00:15<00:\n",
      "Global seed set to 57934\n"
     ]
    },
    {
     "name": "stdout",
     "output_type": "stream",
     "text": [
      "Data shape for DDIM sampling is (5, 4, 64, 64), eta 0.0\n",
      "Running DDIM Sampling with 20 timesteps\n"
     ]
    },
    {
     "name": "stderr",
     "output_type": "stream",
     "text": [
      "DDIM Sampler: 100%|█| 20/20 [00:16<00:\n",
      "Global seed set to 28577\n"
     ]
    },
    {
     "name": "stdout",
     "output_type": "stream",
     "text": [
      "Data shape for DDIM sampling is (5, 4, 64, 64), eta 0.0\n",
      "Running DDIM Sampling with 20 timesteps\n"
     ]
    },
    {
     "name": "stderr",
     "output_type": "stream",
     "text": [
      "DDIM Sampler: 100%|█| 20/20 [00:16<00:\n",
      "Global seed set to 6160\n"
     ]
    },
    {
     "name": "stdout",
     "output_type": "stream",
     "text": [
      "Data shape for DDIM sampling is (5, 4, 64, 64), eta 0.0\n",
      "Running DDIM Sampling with 20 timesteps\n"
     ]
    },
    {
     "name": "stderr",
     "output_type": "stream",
     "text": [
      "DDIM Sampler: 100%|█| 20/20 [00:16<00:\n",
      "Global seed set to 25760\n"
     ]
    },
    {
     "name": "stdout",
     "output_type": "stream",
     "text": [
      "Data shape for DDIM sampling is (5, 4, 64, 64), eta 0.0\n",
      "Running DDIM Sampling with 20 timesteps\n"
     ]
    },
    {
     "name": "stderr",
     "output_type": "stream",
     "text": [
      "DDIM Sampler: 100%|█| 20/20 [00:16<00:\n",
      "Global seed set to 43859\n"
     ]
    },
    {
     "name": "stdout",
     "output_type": "stream",
     "text": [
      "Data shape for DDIM sampling is (5, 4, 64, 64), eta 0.0\n",
      "Running DDIM Sampling with 20 timesteps\n"
     ]
    },
    {
     "name": "stderr",
     "output_type": "stream",
     "text": [
      "DDIM Sampler: 100%|█| 20/20 [00:16<00:\n",
      "Global seed set to 10359\n"
     ]
    },
    {
     "name": "stdout",
     "output_type": "stream",
     "text": [
      "Data shape for DDIM sampling is (5, 4, 64, 64), eta 0.0\n",
      "Running DDIM Sampling with 20 timesteps\n"
     ]
    },
    {
     "name": "stderr",
     "output_type": "stream",
     "text": [
      "DDIM Sampler: 100%|█| 20/20 [00:16<00:\n",
      "Global seed set to 2657\n"
     ]
    },
    {
     "name": "stdout",
     "output_type": "stream",
     "text": [
      "Data shape for DDIM sampling is (5, 4, 64, 64), eta 0.0\n",
      "Running DDIM Sampling with 20 timesteps\n"
     ]
    },
    {
     "name": "stderr",
     "output_type": "stream",
     "text": [
      "DDIM Sampler: 100%|█| 20/20 [00:16<00:\n",
      "Global seed set to 6876\n"
     ]
    },
    {
     "name": "stdout",
     "output_type": "stream",
     "text": [
      "Data shape for DDIM sampling is (5, 4, 64, 64), eta 0.0\n",
      "Running DDIM Sampling with 20 timesteps\n"
     ]
    },
    {
     "name": "stderr",
     "output_type": "stream",
     "text": [
      "DDIM Sampler: 100%|█| 20/20 [00:16<00:\n",
      "Global seed set to 52407\n"
     ]
    },
    {
     "name": "stdout",
     "output_type": "stream",
     "text": [
      "a woman, standing in a jungle,realistic\n",
      "Data shape for DDIM sampling is (5, 4, 64, 64), eta 0.0\n",
      "Running DDIM Sampling with 20 timesteps\n"
     ]
    },
    {
     "name": "stderr",
     "output_type": "stream",
     "text": [
      "DDIM Sampler: 100%|█| 20/20 [00:16<00:\n",
      "Global seed set to 60079\n"
     ]
    },
    {
     "name": "stdout",
     "output_type": "stream",
     "text": [
      "Data shape for DDIM sampling is (5, 4, 64, 64), eta 0.0\n",
      "Running DDIM Sampling with 20 timesteps\n"
     ]
    },
    {
     "name": "stderr",
     "output_type": "stream",
     "text": [
      "DDIM Sampler: 100%|█| 20/20 [00:16<00:\n",
      "Global seed set to 9532\n"
     ]
    },
    {
     "name": "stdout",
     "output_type": "stream",
     "text": [
      "Data shape for DDIM sampling is (5, 4, 64, 64), eta 0.0\n",
      "Running DDIM Sampling with 20 timesteps\n"
     ]
    },
    {
     "name": "stderr",
     "output_type": "stream",
     "text": [
      "DDIM Sampler: 100%|█| 20/20 [00:16<00:\n",
      "Global seed set to 57230\n"
     ]
    },
    {
     "name": "stdout",
     "output_type": "stream",
     "text": [
      "Data shape for DDIM sampling is (5, 4, 64, 64), eta 0.0\n",
      "Running DDIM Sampling with 20 timesteps\n"
     ]
    },
    {
     "name": "stderr",
     "output_type": "stream",
     "text": [
      "DDIM Sampler: 100%|█| 20/20 [00:16<00:\n",
      "Global seed set to 9763\n"
     ]
    },
    {
     "name": "stdout",
     "output_type": "stream",
     "text": [
      "Data shape for DDIM sampling is (5, 4, 64, 64), eta 0.0\n",
      "Running DDIM Sampling with 20 timesteps\n"
     ]
    },
    {
     "name": "stderr",
     "output_type": "stream",
     "text": [
      "DDIM Sampler: 100%|█| 20/20 [00:16<00:\n",
      "Global seed set to 30621\n"
     ]
    },
    {
     "name": "stdout",
     "output_type": "stream",
     "text": [
      "Data shape for DDIM sampling is (5, 4, 64, 64), eta 0.0\n",
      "Running DDIM Sampling with 20 timesteps\n"
     ]
    },
    {
     "name": "stderr",
     "output_type": "stream",
     "text": [
      "DDIM Sampler: 100%|█| 20/20 [00:16<00:\n",
      "Global seed set to 38050\n"
     ]
    },
    {
     "name": "stdout",
     "output_type": "stream",
     "text": [
      "Data shape for DDIM sampling is (5, 4, 64, 64), eta 0.0\n",
      "Running DDIM Sampling with 20 timesteps\n"
     ]
    },
    {
     "name": "stderr",
     "output_type": "stream",
     "text": [
      "DDIM Sampler: 100%|█| 20/20 [00:16<00:\n",
      "Global seed set to 10108\n"
     ]
    },
    {
     "name": "stdout",
     "output_type": "stream",
     "text": [
      "Data shape for DDIM sampling is (5, 4, 64, 64), eta 0.0\n",
      "Running DDIM Sampling with 20 timesteps\n"
     ]
    },
    {
     "name": "stderr",
     "output_type": "stream",
     "text": [
      "DDIM Sampler: 100%|█| 20/20 [00:16<00:\n",
      "Global seed set to 51849\n"
     ]
    },
    {
     "name": "stdout",
     "output_type": "stream",
     "text": [
      "Data shape for DDIM sampling is (5, 4, 64, 64), eta 0.0\n",
      "Running DDIM Sampling with 20 timesteps\n"
     ]
    },
    {
     "name": "stderr",
     "output_type": "stream",
     "text": [
      "DDIM Sampler: 100%|█| 20/20 [00:16<00:\n",
      "Global seed set to 46638\n"
     ]
    },
    {
     "name": "stdout",
     "output_type": "stream",
     "text": [
      "Data shape for DDIM sampling is (5, 4, 64, 64), eta 0.0\n",
      "Running DDIM Sampling with 20 timesteps\n"
     ]
    },
    {
     "name": "stderr",
     "output_type": "stream",
     "text": [
      "DDIM Sampler: 100%|█| 20/20 [00:16<00:\n",
      "Global seed set to 14344\n"
     ]
    },
    {
     "name": "stdout",
     "output_type": "stream",
     "text": [
      "picasso painting\n",
      "a woman, ,picasso painting\n",
      "Data shape for DDIM sampling is (5, 4, 64, 64), eta 0.0\n",
      "Running DDIM Sampling with 20 timesteps\n"
     ]
    },
    {
     "name": "stderr",
     "output_type": "stream",
     "text": [
      "DDIM Sampler: 100%|█| 20/20 [00:16<00:\n",
      "Global seed set to 18369\n"
     ]
    },
    {
     "name": "stdout",
     "output_type": "stream",
     "text": [
      "Data shape for DDIM sampling is (5, 4, 64, 64), eta 0.0\n",
      "Running DDIM Sampling with 20 timesteps\n"
     ]
    },
    {
     "name": "stderr",
     "output_type": "stream",
     "text": [
      "DDIM Sampler: 100%|█| 20/20 [00:16<00:\n",
      "Global seed set to 56795\n"
     ]
    },
    {
     "name": "stdout",
     "output_type": "stream",
     "text": [
      "Data shape for DDIM sampling is (5, 4, 64, 64), eta 0.0\n",
      "Running DDIM Sampling with 20 timesteps\n"
     ]
    },
    {
     "name": "stderr",
     "output_type": "stream",
     "text": [
      "DDIM Sampler: 100%|█| 20/20 [00:16<00:\n",
      "Global seed set to 15600\n"
     ]
    },
    {
     "name": "stdout",
     "output_type": "stream",
     "text": [
      "Data shape for DDIM sampling is (5, 4, 64, 64), eta 0.0\n",
      "Running DDIM Sampling with 20 timesteps\n"
     ]
    },
    {
     "name": "stderr",
     "output_type": "stream",
     "text": [
      "DDIM Sampler: 100%|█| 20/20 [00:16<00:\n",
      "Global seed set to 59632\n"
     ]
    },
    {
     "name": "stdout",
     "output_type": "stream",
     "text": [
      "Data shape for DDIM sampling is (5, 4, 64, 64), eta 0.0\n",
      "Running DDIM Sampling with 20 timesteps\n"
     ]
    },
    {
     "name": "stderr",
     "output_type": "stream",
     "text": [
      "DDIM Sampler: 100%|█| 20/20 [00:16<00:\n",
      "Global seed set to 34239\n"
     ]
    },
    {
     "name": "stdout",
     "output_type": "stream",
     "text": [
      "Data shape for DDIM sampling is (5, 4, 64, 64), eta 0.0\n",
      "Running DDIM Sampling with 20 timesteps\n"
     ]
    },
    {
     "name": "stderr",
     "output_type": "stream",
     "text": [
      "DDIM Sampler: 100%|█| 20/20 [00:16<00:\n",
      "Global seed set to 60778\n"
     ]
    },
    {
     "name": "stdout",
     "output_type": "stream",
     "text": [
      "Data shape for DDIM sampling is (5, 4, 64, 64), eta 0.0\n",
      "Running DDIM Sampling with 20 timesteps\n"
     ]
    },
    {
     "name": "stderr",
     "output_type": "stream",
     "text": [
      "DDIM Sampler: 100%|█| 20/20 [00:21<00:\n",
      "Global seed set to 63440\n"
     ]
    },
    {
     "name": "stdout",
     "output_type": "stream",
     "text": [
      "Data shape for DDIM sampling is (5, 4, 64, 64), eta 0.0\n",
      "Running DDIM Sampling with 20 timesteps\n"
     ]
    },
    {
     "name": "stderr",
     "output_type": "stream",
     "text": [
      "DDIM Sampler: 100%|█| 20/20 [00:16<00:\n",
      "Global seed set to 59030\n"
     ]
    },
    {
     "name": "stdout",
     "output_type": "stream",
     "text": [
      "Data shape for DDIM sampling is (5, 4, 64, 64), eta 0.0\n",
      "Running DDIM Sampling with 20 timesteps\n"
     ]
    },
    {
     "name": "stderr",
     "output_type": "stream",
     "text": [
      "DDIM Sampler: 100%|█| 20/20 [00:16<00:\n",
      "Global seed set to 32681\n"
     ]
    },
    {
     "name": "stdout",
     "output_type": "stream",
     "text": [
      "Data shape for DDIM sampling is (5, 4, 64, 64), eta 0.0\n",
      "Running DDIM Sampling with 20 timesteps\n"
     ]
    },
    {
     "name": "stderr",
     "output_type": "stream",
     "text": [
      "DDIM Sampler: 100%|█| 20/20 [00:16<00:\n",
      "Global seed set to 50776\n"
     ]
    },
    {
     "name": "stdout",
     "output_type": "stream",
     "text": [
      "a woman, standing in a jungle,picasso painting\n",
      "Data shape for DDIM sampling is (5, 4, 64, 64), eta 0.0\n",
      "Running DDIM Sampling with 20 timesteps\n"
     ]
    },
    {
     "name": "stderr",
     "output_type": "stream",
     "text": [
      "DDIM Sampler: 100%|█| 20/20 [00:16<00:\n",
      "Global seed set to 62752\n"
     ]
    },
    {
     "name": "stdout",
     "output_type": "stream",
     "text": [
      "Data shape for DDIM sampling is (5, 4, 64, 64), eta 0.0\n",
      "Running DDIM Sampling with 20 timesteps\n"
     ]
    },
    {
     "name": "stderr",
     "output_type": "stream",
     "text": [
      "DDIM Sampler: 100%|█| 20/20 [00:16<00:\n",
      "Global seed set to 52881\n"
     ]
    },
    {
     "name": "stdout",
     "output_type": "stream",
     "text": [
      "Data shape for DDIM sampling is (5, 4, 64, 64), eta 0.0\n",
      "Running DDIM Sampling with 20 timesteps\n"
     ]
    },
    {
     "name": "stderr",
     "output_type": "stream",
     "text": [
      "DDIM Sampler: 100%|█| 20/20 [00:16<00:\n",
      "Global seed set to 33474\n"
     ]
    },
    {
     "name": "stdout",
     "output_type": "stream",
     "text": [
      "Data shape for DDIM sampling is (5, 4, 64, 64), eta 0.0\n",
      "Running DDIM Sampling with 20 timesteps\n"
     ]
    },
    {
     "name": "stderr",
     "output_type": "stream",
     "text": [
      "DDIM Sampler: 100%|█| 20/20 [00:16<00:\n",
      "Global seed set to 51930\n"
     ]
    },
    {
     "name": "stdout",
     "output_type": "stream",
     "text": [
      "Data shape for DDIM sampling is (5, 4, 64, 64), eta 0.0\n",
      "Running DDIM Sampling with 20 timesteps\n"
     ]
    },
    {
     "name": "stderr",
     "output_type": "stream",
     "text": [
      "DDIM Sampler: 100%|█| 20/20 [00:16<00:\n",
      "Global seed set to 18614\n"
     ]
    },
    {
     "name": "stdout",
     "output_type": "stream",
     "text": [
      "Data shape for DDIM sampling is (5, 4, 64, 64), eta 0.0\n",
      "Running DDIM Sampling with 20 timesteps\n"
     ]
    },
    {
     "name": "stderr",
     "output_type": "stream",
     "text": [
      "DDIM Sampler: 100%|█| 20/20 [00:16<00:\n",
      "Global seed set to 54446\n"
     ]
    },
    {
     "name": "stdout",
     "output_type": "stream",
     "text": [
      "Data shape for DDIM sampling is (5, 4, 64, 64), eta 0.0\n",
      "Running DDIM Sampling with 20 timesteps\n"
     ]
    },
    {
     "name": "stderr",
     "output_type": "stream",
     "text": [
      "DDIM Sampler: 100%|█| 20/20 [00:16<00:\n",
      "Global seed set to 38883\n"
     ]
    },
    {
     "name": "stdout",
     "output_type": "stream",
     "text": [
      "Data shape for DDIM sampling is (5, 4, 64, 64), eta 0.0\n",
      "Running DDIM Sampling with 20 timesteps\n"
     ]
    },
    {
     "name": "stderr",
     "output_type": "stream",
     "text": [
      "DDIM Sampler: 100%|█| 20/20 [00:16<00:\n",
      "Global seed set to 15727\n"
     ]
    },
    {
     "name": "stdout",
     "output_type": "stream",
     "text": [
      "Data shape for DDIM sampling is (5, 4, 64, 64), eta 0.0\n",
      "Running DDIM Sampling with 20 timesteps\n"
     ]
    },
    {
     "name": "stderr",
     "output_type": "stream",
     "text": [
      "DDIM Sampler: 100%|█| 20/20 [00:16<00:\n",
      "Global seed set to 28581\n"
     ]
    },
    {
     "name": "stdout",
     "output_type": "stream",
     "text": [
      "Data shape for DDIM sampling is (5, 4, 64, 64), eta 0.0\n",
      "Running DDIM Sampling with 20 timesteps\n"
     ]
    },
    {
     "name": "stderr",
     "output_type": "stream",
     "text": [
      "DDIM Sampler: 100%|█| 20/20 [00:16<00:\n",
      "Global seed set to 52915\n"
     ]
    },
    {
     "name": "stdout",
     "output_type": "stream",
     "text": [
      "oil painting\n",
      "a woman, ,oil painting\n",
      "Data shape for DDIM sampling is (5, 4, 64, 64), eta 0.0\n",
      "Running DDIM Sampling with 20 timesteps\n"
     ]
    },
    {
     "name": "stderr",
     "output_type": "stream",
     "text": [
      "DDIM Sampler: 100%|█| 20/20 [00:16<00:\n",
      "Global seed set to 10533\n"
     ]
    },
    {
     "name": "stdout",
     "output_type": "stream",
     "text": [
      "Data shape for DDIM sampling is (5, 4, 64, 64), eta 0.0\n",
      "Running DDIM Sampling with 20 timesteps\n"
     ]
    },
    {
     "name": "stderr",
     "output_type": "stream",
     "text": [
      "DDIM Sampler: 100%|█| 20/20 [00:16<00:\n",
      "Global seed set to 31808\n"
     ]
    },
    {
     "name": "stdout",
     "output_type": "stream",
     "text": [
      "Data shape for DDIM sampling is (5, 4, 64, 64), eta 0.0\n",
      "Running DDIM Sampling with 20 timesteps\n"
     ]
    },
    {
     "name": "stderr",
     "output_type": "stream",
     "text": [
      "DDIM Sampler: 100%|█| 20/20 [00:16<00:\n",
      "Global seed set to 33281\n"
     ]
    },
    {
     "name": "stdout",
     "output_type": "stream",
     "text": [
      "Data shape for DDIM sampling is (5, 4, 64, 64), eta 0.0\n",
      "Running DDIM Sampling with 20 timesteps\n"
     ]
    },
    {
     "name": "stderr",
     "output_type": "stream",
     "text": [
      "DDIM Sampler: 100%|█| 20/20 [00:16<00:\n",
      "Global seed set to 9181\n"
     ]
    },
    {
     "name": "stdout",
     "output_type": "stream",
     "text": [
      "Data shape for DDIM sampling is (5, 4, 64, 64), eta 0.0\n",
      "Running DDIM Sampling with 20 timesteps\n"
     ]
    },
    {
     "name": "stderr",
     "output_type": "stream",
     "text": [
      "DDIM Sampler: 100%|█| 20/20 [00:16<00:\n",
      "Global seed set to 64188\n"
     ]
    },
    {
     "name": "stdout",
     "output_type": "stream",
     "text": [
      "Data shape for DDIM sampling is (5, 4, 64, 64), eta 0.0\n",
      "Running DDIM Sampling with 20 timesteps\n"
     ]
    },
    {
     "name": "stderr",
     "output_type": "stream",
     "text": [
      "DDIM Sampler: 100%|█| 20/20 [00:16<00:\n",
      "Global seed set to 10533\n"
     ]
    },
    {
     "name": "stdout",
     "output_type": "stream",
     "text": [
      "Data shape for DDIM sampling is (5, 4, 64, 64), eta 0.0\n",
      "Running DDIM Sampling with 20 timesteps\n"
     ]
    },
    {
     "name": "stderr",
     "output_type": "stream",
     "text": [
      "DDIM Sampler: 100%|█| 20/20 [00:16<00:\n",
      "Global seed set to 31808\n"
     ]
    },
    {
     "name": "stdout",
     "output_type": "stream",
     "text": [
      "Data shape for DDIM sampling is (5, 4, 64, 64), eta 0.0\n",
      "Running DDIM Sampling with 20 timesteps\n"
     ]
    },
    {
     "name": "stderr",
     "output_type": "stream",
     "text": [
      "DDIM Sampler: 100%|█| 20/20 [00:16<00:\n",
      "Global seed set to 33281\n"
     ]
    },
    {
     "name": "stdout",
     "output_type": "stream",
     "text": [
      "Data shape for DDIM sampling is (5, 4, 64, 64), eta 0.0\n",
      "Running DDIM Sampling with 20 timesteps\n"
     ]
    },
    {
     "name": "stderr",
     "output_type": "stream",
     "text": [
      "DDIM Sampler: 100%|█| 20/20 [00:16<00:\n",
      "Global seed set to 9181\n"
     ]
    },
    {
     "name": "stdout",
     "output_type": "stream",
     "text": [
      "Data shape for DDIM sampling is (5, 4, 64, 64), eta 0.0\n",
      "Running DDIM Sampling with 20 timesteps\n"
     ]
    },
    {
     "name": "stderr",
     "output_type": "stream",
     "text": [
      "DDIM Sampler: 100%|█| 20/20 [00:16<00:\n",
      "Global seed set to 64188\n"
     ]
    },
    {
     "name": "stdout",
     "output_type": "stream",
     "text": [
      "a woman, standing in a jungle,oil painting\n",
      "Data shape for DDIM sampling is (5, 4, 64, 64), eta 0.0\n",
      "Running DDIM Sampling with 20 timesteps\n"
     ]
    },
    {
     "name": "stderr",
     "output_type": "stream",
     "text": [
      "DDIM Sampler: 100%|█| 20/20 [00:16<00:\n",
      "Global seed set to 10533\n"
     ]
    },
    {
     "name": "stdout",
     "output_type": "stream",
     "text": [
      "Data shape for DDIM sampling is (5, 4, 64, 64), eta 0.0\n",
      "Running DDIM Sampling with 20 timesteps\n"
     ]
    },
    {
     "name": "stderr",
     "output_type": "stream",
     "text": [
      "DDIM Sampler: 100%|█| 20/20 [00:16<00:\n",
      "Global seed set to 31808\n"
     ]
    },
    {
     "name": "stdout",
     "output_type": "stream",
     "text": [
      "Data shape for DDIM sampling is (5, 4, 64, 64), eta 0.0\n",
      "Running DDIM Sampling with 20 timesteps\n"
     ]
    },
    {
     "name": "stderr",
     "output_type": "stream",
     "text": [
      "DDIM Sampler: 100%|█| 20/20 [00:16<00:\n",
      "Global seed set to 33281\n"
     ]
    },
    {
     "name": "stdout",
     "output_type": "stream",
     "text": [
      "Data shape for DDIM sampling is (5, 4, 64, 64), eta 0.0\n",
      "Running DDIM Sampling with 20 timesteps\n"
     ]
    },
    {
     "name": "stderr",
     "output_type": "stream",
     "text": [
      "DDIM Sampler: 100%|█| 20/20 [00:16<00:\n",
      "Global seed set to 9181\n"
     ]
    },
    {
     "name": "stdout",
     "output_type": "stream",
     "text": [
      "Data shape for DDIM sampling is (5, 4, 64, 64), eta 0.0\n",
      "Running DDIM Sampling with 20 timesteps\n"
     ]
    },
    {
     "name": "stderr",
     "output_type": "stream",
     "text": [
      "DDIM Sampler: 100%|█| 20/20 [00:16<00:\n",
      "Global seed set to 64188\n"
     ]
    },
    {
     "name": "stdout",
     "output_type": "stream",
     "text": [
      "Data shape for DDIM sampling is (5, 4, 64, 64), eta 0.0\n",
      "Running DDIM Sampling with 20 timesteps\n"
     ]
    },
    {
     "name": "stderr",
     "output_type": "stream",
     "text": [
      "DDIM Sampler: 100%|█| 20/20 [00:16<00:\n",
      "Global seed set to 10533\n"
     ]
    },
    {
     "name": "stdout",
     "output_type": "stream",
     "text": [
      "Data shape for DDIM sampling is (5, 4, 64, 64), eta 0.0\n",
      "Running DDIM Sampling with 20 timesteps\n"
     ]
    },
    {
     "name": "stderr",
     "output_type": "stream",
     "text": [
      "DDIM Sampler: 100%|█| 20/20 [00:16<00:\n",
      "Global seed set to 31808\n"
     ]
    },
    {
     "name": "stdout",
     "output_type": "stream",
     "text": [
      "Data shape for DDIM sampling is (5, 4, 64, 64), eta 0.0\n",
      "Running DDIM Sampling with 20 timesteps\n"
     ]
    },
    {
     "name": "stderr",
     "output_type": "stream",
     "text": [
      "DDIM Sampler: 100%|█| 20/20 [00:16<00:\n",
      "Global seed set to 33281\n"
     ]
    },
    {
     "name": "stdout",
     "output_type": "stream",
     "text": [
      "Data shape for DDIM sampling is (5, 4, 64, 64), eta 0.0\n",
      "Running DDIM Sampling with 20 timesteps\n"
     ]
    },
    {
     "name": "stderr",
     "output_type": "stream",
     "text": [
      "DDIM Sampler: 100%|█| 20/20 [00:16<00:\n",
      "Global seed set to 9181\n"
     ]
    },
    {
     "name": "stdout",
     "output_type": "stream",
     "text": [
      "Data shape for DDIM sampling is (5, 4, 64, 64), eta 0.0\n",
      "Running DDIM Sampling with 20 timesteps\n"
     ]
    },
    {
     "name": "stderr",
     "output_type": "stream",
     "text": [
      "DDIM Sampler: 100%|█| 20/20 [00:16<00:\n",
      "Global seed set to 64188\n"
     ]
    },
    {
     "name": "stdout",
     "output_type": "stream",
     "text": [
      "stained glass\n",
      "a woman, ,stained glass\n",
      "Data shape for DDIM sampling is (5, 4, 64, 64), eta 0.0\n",
      "Running DDIM Sampling with 20 timesteps\n"
     ]
    },
    {
     "name": "stderr",
     "output_type": "stream",
     "text": [
      "DDIM Sampler: 100%|█| 20/20 [00:16<00:\n",
      "Global seed set to 10533\n"
     ]
    },
    {
     "name": "stdout",
     "output_type": "stream",
     "text": [
      "Data shape for DDIM sampling is (5, 4, 64, 64), eta 0.0\n",
      "Running DDIM Sampling with 20 timesteps\n"
     ]
    },
    {
     "name": "stderr",
     "output_type": "stream",
     "text": [
      "DDIM Sampler: 100%|█| 20/20 [00:16<00:\n",
      "Global seed set to 31808\n"
     ]
    },
    {
     "name": "stdout",
     "output_type": "stream",
     "text": [
      "Data shape for DDIM sampling is (5, 4, 64, 64), eta 0.0\n",
      "Running DDIM Sampling with 20 timesteps\n"
     ]
    },
    {
     "name": "stderr",
     "output_type": "stream",
     "text": [
      "DDIM Sampler: 100%|█| 20/20 [00:16<00:\n",
      "Global seed set to 33281\n"
     ]
    },
    {
     "name": "stdout",
     "output_type": "stream",
     "text": [
      "Data shape for DDIM sampling is (5, 4, 64, 64), eta 0.0\n",
      "Running DDIM Sampling with 20 timesteps\n"
     ]
    },
    {
     "name": "stderr",
     "output_type": "stream",
     "text": [
      "DDIM Sampler: 100%|█| 20/20 [00:16<00:\n",
      "Global seed set to 9181\n"
     ]
    },
    {
     "name": "stdout",
     "output_type": "stream",
     "text": [
      "Data shape for DDIM sampling is (5, 4, 64, 64), eta 0.0\n",
      "Running DDIM Sampling with 20 timesteps\n"
     ]
    },
    {
     "name": "stderr",
     "output_type": "stream",
     "text": [
      "DDIM Sampler: 100%|█| 20/20 [00:16<00:\n",
      "Global seed set to 64188\n"
     ]
    },
    {
     "name": "stdout",
     "output_type": "stream",
     "text": [
      "Data shape for DDIM sampling is (5, 4, 64, 64), eta 0.0\n",
      "Running DDIM Sampling with 20 timesteps\n"
     ]
    },
    {
     "name": "stderr",
     "output_type": "stream",
     "text": [
      "DDIM Sampler: 100%|█| 20/20 [00:16<00:\n",
      "Global seed set to 10533\n"
     ]
    },
    {
     "name": "stdout",
     "output_type": "stream",
     "text": [
      "Data shape for DDIM sampling is (5, 4, 64, 64), eta 0.0\n",
      "Running DDIM Sampling with 20 timesteps\n"
     ]
    },
    {
     "name": "stderr",
     "output_type": "stream",
     "text": [
      "DDIM Sampler: 100%|█| 20/20 [00:16<00:\n",
      "Global seed set to 31808\n"
     ]
    },
    {
     "name": "stdout",
     "output_type": "stream",
     "text": [
      "Data shape for DDIM sampling is (5, 4, 64, 64), eta 0.0\n",
      "Running DDIM Sampling with 20 timesteps\n"
     ]
    },
    {
     "name": "stderr",
     "output_type": "stream",
     "text": [
      "DDIM Sampler: 100%|█| 20/20 [00:16<00:\n",
      "Global seed set to 33281\n"
     ]
    },
    {
     "name": "stdout",
     "output_type": "stream",
     "text": [
      "Data shape for DDIM sampling is (5, 4, 64, 64), eta 0.0\n",
      "Running DDIM Sampling with 20 timesteps\n"
     ]
    },
    {
     "name": "stderr",
     "output_type": "stream",
     "text": [
      "DDIM Sampler: 100%|█| 20/20 [00:16<00:\n",
      "Global seed set to 9181\n"
     ]
    },
    {
     "name": "stdout",
     "output_type": "stream",
     "text": [
      "Data shape for DDIM sampling is (5, 4, 64, 64), eta 0.0\n",
      "Running DDIM Sampling with 20 timesteps\n"
     ]
    },
    {
     "name": "stderr",
     "output_type": "stream",
     "text": [
      "DDIM Sampler: 100%|█| 20/20 [00:16<00:\n",
      "Global seed set to 64188\n"
     ]
    },
    {
     "name": "stdout",
     "output_type": "stream",
     "text": [
      "a woman, standing in a jungle,stained glass\n",
      "Data shape for DDIM sampling is (5, 4, 64, 64), eta 0.0\n",
      "Running DDIM Sampling with 20 timesteps\n"
     ]
    },
    {
     "name": "stderr",
     "output_type": "stream",
     "text": [
      "DDIM Sampler: 100%|█| 20/20 [00:16<00:\n",
      "Global seed set to 10533\n"
     ]
    },
    {
     "name": "stdout",
     "output_type": "stream",
     "text": [
      "Data shape for DDIM sampling is (5, 4, 64, 64), eta 0.0\n",
      "Running DDIM Sampling with 20 timesteps\n"
     ]
    },
    {
     "name": "stderr",
     "output_type": "stream",
     "text": [
      "DDIM Sampler: 100%|█| 20/20 [00:16<00:\n",
      "Global seed set to 31808\n"
     ]
    },
    {
     "name": "stdout",
     "output_type": "stream",
     "text": [
      "Data shape for DDIM sampling is (5, 4, 64, 64), eta 0.0\n",
      "Running DDIM Sampling with 20 timesteps\n"
     ]
    },
    {
     "name": "stderr",
     "output_type": "stream",
     "text": [
      "DDIM Sampler: 100%|█| 20/20 [00:16<00:\n",
      "Global seed set to 33281\n"
     ]
    },
    {
     "name": "stdout",
     "output_type": "stream",
     "text": [
      "Data shape for DDIM sampling is (5, 4, 64, 64), eta 0.0\n",
      "Running DDIM Sampling with 20 timesteps\n"
     ]
    },
    {
     "name": "stderr",
     "output_type": "stream",
     "text": [
      "DDIM Sampler: 100%|█| 20/20 [00:16<00:\n",
      "Global seed set to 9181\n"
     ]
    },
    {
     "name": "stdout",
     "output_type": "stream",
     "text": [
      "Data shape for DDIM sampling is (5, 4, 64, 64), eta 0.0\n",
      "Running DDIM Sampling with 20 timesteps\n"
     ]
    },
    {
     "name": "stderr",
     "output_type": "stream",
     "text": [
      "DDIM Sampler: 100%|█| 20/20 [00:16<00:\n",
      "Global seed set to 64188\n"
     ]
    },
    {
     "name": "stdout",
     "output_type": "stream",
     "text": [
      "Data shape for DDIM sampling is (5, 4, 64, 64), eta 0.0\n",
      "Running DDIM Sampling with 20 timesteps\n"
     ]
    },
    {
     "name": "stderr",
     "output_type": "stream",
     "text": [
      "DDIM Sampler: 100%|█| 20/20 [00:16<00:\n",
      "Global seed set to 10533\n"
     ]
    },
    {
     "name": "stdout",
     "output_type": "stream",
     "text": [
      "Data shape for DDIM sampling is (5, 4, 64, 64), eta 0.0\n",
      "Running DDIM Sampling with 20 timesteps\n"
     ]
    },
    {
     "name": "stderr",
     "output_type": "stream",
     "text": [
      "DDIM Sampler: 100%|█| 20/20 [00:16<00:\n",
      "Global seed set to 31808\n"
     ]
    },
    {
     "name": "stdout",
     "output_type": "stream",
     "text": [
      "Data shape for DDIM sampling is (5, 4, 64, 64), eta 0.0\n",
      "Running DDIM Sampling with 20 timesteps\n"
     ]
    },
    {
     "name": "stderr",
     "output_type": "stream",
     "text": [
      "DDIM Sampler: 100%|█| 20/20 [00:16<00:\n",
      "Global seed set to 33281\n"
     ]
    },
    {
     "name": "stdout",
     "output_type": "stream",
     "text": [
      "Data shape for DDIM sampling is (5, 4, 64, 64), eta 0.0\n",
      "Running DDIM Sampling with 20 timesteps\n"
     ]
    },
    {
     "name": "stderr",
     "output_type": "stream",
     "text": [
      "DDIM Sampler: 100%|█| 20/20 [00:16<00:\n",
      "Global seed set to 9181\n"
     ]
    },
    {
     "name": "stdout",
     "output_type": "stream",
     "text": [
      "Data shape for DDIM sampling is (5, 4, 64, 64), eta 0.0\n",
      "Running DDIM Sampling with 20 timesteps\n"
     ]
    },
    {
     "name": "stderr",
     "output_type": "stream",
     "text": [
      "DDIM Sampler: 100%|█| 20/20 [00:16<00:\n",
      "Global seed set to 64188\n"
     ]
    },
    {
     "name": "stdout",
     "output_type": "stream",
     "text": [
      "ukiyoe drawing\n",
      "a woman, ,ukiyoe drawing\n",
      "Data shape for DDIM sampling is (5, 4, 64, 64), eta 0.0\n",
      "Running DDIM Sampling with 20 timesteps\n"
     ]
    },
    {
     "name": "stderr",
     "output_type": "stream",
     "text": [
      "DDIM Sampler: 100%|█| 20/20 [00:16<00:\n",
      "Global seed set to 10533\n"
     ]
    },
    {
     "name": "stdout",
     "output_type": "stream",
     "text": [
      "Data shape for DDIM sampling is (5, 4, 64, 64), eta 0.0\n",
      "Running DDIM Sampling with 20 timesteps\n"
     ]
    },
    {
     "name": "stderr",
     "output_type": "stream",
     "text": [
      "DDIM Sampler: 100%|█| 20/20 [00:16<00:\n",
      "Global seed set to 31808\n"
     ]
    },
    {
     "name": "stdout",
     "output_type": "stream",
     "text": [
      "Data shape for DDIM sampling is (5, 4, 64, 64), eta 0.0\n",
      "Running DDIM Sampling with 20 timesteps\n"
     ]
    },
    {
     "name": "stderr",
     "output_type": "stream",
     "text": [
      "DDIM Sampler: 100%|█| 20/20 [00:16<00:\n",
      "Global seed set to 33281\n"
     ]
    },
    {
     "name": "stdout",
     "output_type": "stream",
     "text": [
      "Data shape for DDIM sampling is (5, 4, 64, 64), eta 0.0\n",
      "Running DDIM Sampling with 20 timesteps\n"
     ]
    },
    {
     "name": "stderr",
     "output_type": "stream",
     "text": [
      "DDIM Sampler: 100%|█| 20/20 [00:16<00:\n",
      "Global seed set to 9181\n"
     ]
    },
    {
     "name": "stdout",
     "output_type": "stream",
     "text": [
      "Data shape for DDIM sampling is (5, 4, 64, 64), eta 0.0\n",
      "Running DDIM Sampling with 20 timesteps\n"
     ]
    },
    {
     "name": "stderr",
     "output_type": "stream",
     "text": [
      "DDIM Sampler: 100%|█| 20/20 [00:16<00:\n",
      "Global seed set to 64188\n"
     ]
    },
    {
     "name": "stdout",
     "output_type": "stream",
     "text": [
      "Data shape for DDIM sampling is (5, 4, 64, 64), eta 0.0\n",
      "Running DDIM Sampling with 20 timesteps\n"
     ]
    },
    {
     "name": "stderr",
     "output_type": "stream",
     "text": [
      "DDIM Sampler: 100%|█| 20/20 [00:16<00:\n",
      "Global seed set to 10533\n"
     ]
    },
    {
     "name": "stdout",
     "output_type": "stream",
     "text": [
      "Data shape for DDIM sampling is (5, 4, 64, 64), eta 0.0\n",
      "Running DDIM Sampling with 20 timesteps\n"
     ]
    },
    {
     "name": "stderr",
     "output_type": "stream",
     "text": [
      "DDIM Sampler: 100%|█| 20/20 [00:16<00:\n",
      "Global seed set to 31808\n"
     ]
    },
    {
     "name": "stdout",
     "output_type": "stream",
     "text": [
      "Data shape for DDIM sampling is (5, 4, 64, 64), eta 0.0\n",
      "Running DDIM Sampling with 20 timesteps\n"
     ]
    },
    {
     "name": "stderr",
     "output_type": "stream",
     "text": [
      "DDIM Sampler: 100%|█| 20/20 [00:16<00:\n",
      "Global seed set to 33281\n"
     ]
    },
    {
     "name": "stdout",
     "output_type": "stream",
     "text": [
      "Data shape for DDIM sampling is (5, 4, 64, 64), eta 0.0\n",
      "Running DDIM Sampling with 20 timesteps\n"
     ]
    },
    {
     "name": "stderr",
     "output_type": "stream",
     "text": [
      "DDIM Sampler: 100%|█| 20/20 [00:16<00:\n",
      "Global seed set to 9181\n"
     ]
    },
    {
     "name": "stdout",
     "output_type": "stream",
     "text": [
      "Data shape for DDIM sampling is (5, 4, 64, 64), eta 0.0\n",
      "Running DDIM Sampling with 20 timesteps\n"
     ]
    },
    {
     "name": "stderr",
     "output_type": "stream",
     "text": [
      "DDIM Sampler: 100%|█| 20/20 [00:16<00:\n",
      "Global seed set to 64188\n"
     ]
    },
    {
     "name": "stdout",
     "output_type": "stream",
     "text": [
      "a woman, standing in a jungle,ukiyoe drawing\n",
      "Data shape for DDIM sampling is (5, 4, 64, 64), eta 0.0\n",
      "Running DDIM Sampling with 20 timesteps\n"
     ]
    },
    {
     "name": "stderr",
     "output_type": "stream",
     "text": [
      "DDIM Sampler: 100%|█| 20/20 [00:16<00:\n",
      "Global seed set to 10533\n"
     ]
    },
    {
     "name": "stdout",
     "output_type": "stream",
     "text": [
      "Data shape for DDIM sampling is (5, 4, 64, 64), eta 0.0\n",
      "Running DDIM Sampling with 20 timesteps\n"
     ]
    },
    {
     "name": "stderr",
     "output_type": "stream",
     "text": [
      "DDIM Sampler: 100%|█| 20/20 [00:16<00:\n",
      "Global seed set to 31808\n"
     ]
    },
    {
     "name": "stdout",
     "output_type": "stream",
     "text": [
      "Data shape for DDIM sampling is (5, 4, 64, 64), eta 0.0\n",
      "Running DDIM Sampling with 20 timesteps\n"
     ]
    },
    {
     "name": "stderr",
     "output_type": "stream",
     "text": [
      "DDIM Sampler: 100%|█| 20/20 [00:16<00:\n",
      "Global seed set to 33281\n"
     ]
    },
    {
     "name": "stdout",
     "output_type": "stream",
     "text": [
      "Data shape for DDIM sampling is (5, 4, 64, 64), eta 0.0\n",
      "Running DDIM Sampling with 20 timesteps\n"
     ]
    },
    {
     "name": "stderr",
     "output_type": "stream",
     "text": [
      "DDIM Sampler: 100%|█| 20/20 [00:16<00:\n",
      "Global seed set to 9181\n"
     ]
    },
    {
     "name": "stdout",
     "output_type": "stream",
     "text": [
      "Data shape for DDIM sampling is (5, 4, 64, 64), eta 0.0\n",
      "Running DDIM Sampling with 20 timesteps\n"
     ]
    },
    {
     "name": "stderr",
     "output_type": "stream",
     "text": [
      "DDIM Sampler: 100%|█| 20/20 [00:16<00:\n",
      "Global seed set to 64188\n"
     ]
    },
    {
     "name": "stdout",
     "output_type": "stream",
     "text": [
      "Data shape for DDIM sampling is (5, 4, 64, 64), eta 0.0\n",
      "Running DDIM Sampling with 20 timesteps\n"
     ]
    },
    {
     "name": "stderr",
     "output_type": "stream",
     "text": [
      "DDIM Sampler: 100%|█| 20/20 [00:16<00:\n",
      "Global seed set to 10533\n"
     ]
    },
    {
     "name": "stdout",
     "output_type": "stream",
     "text": [
      "Data shape for DDIM sampling is (5, 4, 64, 64), eta 0.0\n",
      "Running DDIM Sampling with 20 timesteps\n"
     ]
    },
    {
     "name": "stderr",
     "output_type": "stream",
     "text": [
      "DDIM Sampler: 100%|█| 20/20 [00:16<00:\n",
      "Global seed set to 31808\n"
     ]
    },
    {
     "name": "stdout",
     "output_type": "stream",
     "text": [
      "Data shape for DDIM sampling is (5, 4, 64, 64), eta 0.0\n",
      "Running DDIM Sampling with 20 timesteps\n"
     ]
    },
    {
     "name": "stderr",
     "output_type": "stream",
     "text": [
      "DDIM Sampler: 100%|█| 20/20 [00:16<00:\n",
      "Global seed set to 33281\n"
     ]
    },
    {
     "name": "stdout",
     "output_type": "stream",
     "text": [
      "Data shape for DDIM sampling is (5, 4, 64, 64), eta 0.0\n",
      "Running DDIM Sampling with 20 timesteps\n"
     ]
    },
    {
     "name": "stderr",
     "output_type": "stream",
     "text": [
      "DDIM Sampler: 100%|█| 20/20 [00:16<00:\n",
      "Global seed set to 9181\n"
     ]
    },
    {
     "name": "stdout",
     "output_type": "stream",
     "text": [
      "Data shape for DDIM sampling is (5, 4, 64, 64), eta 0.0\n",
      "Running DDIM Sampling with 20 timesteps\n"
     ]
    },
    {
     "name": "stderr",
     "output_type": "stream",
     "text": [
      "DDIM Sampler: 100%|█| 20/20 [00:16<00:\n",
      "Global seed set to 64188\n"
     ]
    },
    {
     "name": "stdout",
     "output_type": "stream",
     "text": [
      "cartoon drawing\n",
      "a woman, ,cartoon drawing\n",
      "Data shape for DDIM sampling is (5, 4, 64, 64), eta 0.0\n",
      "Running DDIM Sampling with 20 timesteps\n"
     ]
    },
    {
     "name": "stderr",
     "output_type": "stream",
     "text": [
      "DDIM Sampler: 100%|█| 20/20 [00:16<00:\n",
      "Global seed set to 10533\n"
     ]
    },
    {
     "name": "stdout",
     "output_type": "stream",
     "text": [
      "Data shape for DDIM sampling is (5, 4, 64, 64), eta 0.0\n",
      "Running DDIM Sampling with 20 timesteps\n"
     ]
    },
    {
     "name": "stderr",
     "output_type": "stream",
     "text": [
      "DDIM Sampler: 100%|█| 20/20 [00:16<00:\n",
      "Global seed set to 31808\n"
     ]
    },
    {
     "name": "stdout",
     "output_type": "stream",
     "text": [
      "Data shape for DDIM sampling is (5, 4, 64, 64), eta 0.0\n",
      "Running DDIM Sampling with 20 timesteps\n"
     ]
    },
    {
     "name": "stderr",
     "output_type": "stream",
     "text": [
      "DDIM Sampler: 100%|█| 20/20 [00:16<00:\n",
      "Global seed set to 33281\n"
     ]
    },
    {
     "name": "stdout",
     "output_type": "stream",
     "text": [
      "Data shape for DDIM sampling is (5, 4, 64, 64), eta 0.0\n",
      "Running DDIM Sampling with 20 timesteps\n"
     ]
    },
    {
     "name": "stderr",
     "output_type": "stream",
     "text": [
      "DDIM Sampler: 100%|█| 20/20 [00:16<00:\n",
      "Global seed set to 9181\n"
     ]
    },
    {
     "name": "stdout",
     "output_type": "stream",
     "text": [
      "Data shape for DDIM sampling is (5, 4, 64, 64), eta 0.0\n",
      "Running DDIM Sampling with 20 timesteps\n"
     ]
    },
    {
     "name": "stderr",
     "output_type": "stream",
     "text": [
      "DDIM Sampler: 100%|█| 20/20 [00:16<00:\n",
      "Global seed set to 64188\n"
     ]
    },
    {
     "name": "stdout",
     "output_type": "stream",
     "text": [
      "Data shape for DDIM sampling is (5, 4, 64, 64), eta 0.0\n",
      "Running DDIM Sampling with 20 timesteps\n"
     ]
    },
    {
     "name": "stderr",
     "output_type": "stream",
     "text": [
      "DDIM Sampler: 100%|█| 20/20 [00:16<00:\n",
      "Global seed set to 10533\n"
     ]
    },
    {
     "name": "stdout",
     "output_type": "stream",
     "text": [
      "Data shape for DDIM sampling is (5, 4, 64, 64), eta 0.0\n",
      "Running DDIM Sampling with 20 timesteps\n"
     ]
    },
    {
     "name": "stderr",
     "output_type": "stream",
     "text": [
      "DDIM Sampler: 100%|█| 20/20 [00:16<00:\n",
      "Global seed set to 31808\n"
     ]
    },
    {
     "name": "stdout",
     "output_type": "stream",
     "text": [
      "Data shape for DDIM sampling is (5, 4, 64, 64), eta 0.0\n",
      "Running DDIM Sampling with 20 timesteps\n"
     ]
    },
    {
     "name": "stderr",
     "output_type": "stream",
     "text": [
      "DDIM Sampler: 100%|█| 20/20 [00:16<00:\n",
      "Global seed set to 33281\n"
     ]
    },
    {
     "name": "stdout",
     "output_type": "stream",
     "text": [
      "Data shape for DDIM sampling is (5, 4, 64, 64), eta 0.0\n",
      "Running DDIM Sampling with 20 timesteps\n"
     ]
    },
    {
     "name": "stderr",
     "output_type": "stream",
     "text": [
      "DDIM Sampler: 100%|█| 20/20 [00:16<00:\n",
      "Global seed set to 9181\n"
     ]
    },
    {
     "name": "stdout",
     "output_type": "stream",
     "text": [
      "Data shape for DDIM sampling is (5, 4, 64, 64), eta 0.0\n",
      "Running DDIM Sampling with 20 timesteps\n"
     ]
    },
    {
     "name": "stderr",
     "output_type": "stream",
     "text": [
      "DDIM Sampler: 100%|█| 20/20 [00:16<00:\n",
      "Global seed set to 64188\n"
     ]
    },
    {
     "name": "stdout",
     "output_type": "stream",
     "text": [
      "a woman, standing in a jungle,cartoon drawing\n",
      "Data shape for DDIM sampling is (5, 4, 64, 64), eta 0.0\n",
      "Running DDIM Sampling with 20 timesteps\n"
     ]
    },
    {
     "name": "stderr",
     "output_type": "stream",
     "text": [
      "DDIM Sampler: 100%|█| 20/20 [00:16<00:\n",
      "Global seed set to 10533\n"
     ]
    },
    {
     "name": "stdout",
     "output_type": "stream",
     "text": [
      "Data shape for DDIM sampling is (5, 4, 64, 64), eta 0.0\n",
      "Running DDIM Sampling with 20 timesteps\n"
     ]
    },
    {
     "name": "stderr",
     "output_type": "stream",
     "text": [
      "DDIM Sampler: 100%|█| 20/20 [00:16<00:\n",
      "Global seed set to 31808\n"
     ]
    },
    {
     "name": "stdout",
     "output_type": "stream",
     "text": [
      "Data shape for DDIM sampling is (5, 4, 64, 64), eta 0.0\n",
      "Running DDIM Sampling with 20 timesteps\n"
     ]
    },
    {
     "name": "stderr",
     "output_type": "stream",
     "text": [
      "DDIM Sampler: 100%|█| 20/20 [00:16<00:\n",
      "Global seed set to 33281\n"
     ]
    },
    {
     "name": "stdout",
     "output_type": "stream",
     "text": [
      "Data shape for DDIM sampling is (5, 4, 64, 64), eta 0.0\n",
      "Running DDIM Sampling with 20 timesteps\n"
     ]
    },
    {
     "name": "stderr",
     "output_type": "stream",
     "text": [
      "DDIM Sampler: 100%|█| 20/20 [00:16<00:\n",
      "Global seed set to 9181\n"
     ]
    },
    {
     "name": "stdout",
     "output_type": "stream",
     "text": [
      "Data shape for DDIM sampling is (5, 4, 64, 64), eta 0.0\n",
      "Running DDIM Sampling with 20 timesteps\n"
     ]
    },
    {
     "name": "stderr",
     "output_type": "stream",
     "text": [
      "DDIM Sampler: 100%|█| 20/20 [00:16<00:\n",
      "Global seed set to 64188\n"
     ]
    },
    {
     "name": "stdout",
     "output_type": "stream",
     "text": [
      "Data shape for DDIM sampling is (5, 4, 64, 64), eta 0.0\n",
      "Running DDIM Sampling with 20 timesteps\n"
     ]
    },
    {
     "name": "stderr",
     "output_type": "stream",
     "text": [
      "DDIM Sampler: 100%|█| 20/20 [00:16<00:\n",
      "Global seed set to 10533\n"
     ]
    },
    {
     "name": "stdout",
     "output_type": "stream",
     "text": [
      "Data shape for DDIM sampling is (5, 4, 64, 64), eta 0.0\n",
      "Running DDIM Sampling with 20 timesteps\n"
     ]
    },
    {
     "name": "stderr",
     "output_type": "stream",
     "text": [
      "DDIM Sampler: 100%|█| 20/20 [00:16<00:\n",
      "Global seed set to 31808\n"
     ]
    },
    {
     "name": "stdout",
     "output_type": "stream",
     "text": [
      "Data shape for DDIM sampling is (5, 4, 64, 64), eta 0.0\n",
      "Running DDIM Sampling with 20 timesteps\n"
     ]
    },
    {
     "name": "stderr",
     "output_type": "stream",
     "text": [
      "DDIM Sampler: 100%|█| 20/20 [00:16<00:\n",
      "Global seed set to 33281\n"
     ]
    },
    {
     "name": "stdout",
     "output_type": "stream",
     "text": [
      "Data shape for DDIM sampling is (5, 4, 64, 64), eta 0.0\n",
      "Running DDIM Sampling with 20 timesteps\n"
     ]
    },
    {
     "name": "stderr",
     "output_type": "stream",
     "text": [
      "DDIM Sampler: 100%|█| 20/20 [00:16<00:\n",
      "Global seed set to 9181\n"
     ]
    },
    {
     "name": "stdout",
     "output_type": "stream",
     "text": [
      "Data shape for DDIM sampling is (5, 4, 64, 64), eta 0.0\n",
      "Running DDIM Sampling with 20 timesteps\n"
     ]
    },
    {
     "name": "stderr",
     "output_type": "stream",
     "text": [
      "DDIM Sampler: 100%|█| 20/20 [00:16<00:\n",
      "Global seed set to 64188\n"
     ]
    },
    {
     "name": "stdout",
     "output_type": "stream",
     "text": [
      "computer graphics\n",
      "a woman, ,computer graphics\n",
      "Data shape for DDIM sampling is (5, 4, 64, 64), eta 0.0\n",
      "Running DDIM Sampling with 20 timesteps\n"
     ]
    },
    {
     "name": "stderr",
     "output_type": "stream",
     "text": [
      "DDIM Sampler: 100%|█| 20/20 [00:21<00:\n",
      "Global seed set to 10533\n"
     ]
    },
    {
     "name": "stdout",
     "output_type": "stream",
     "text": [
      "Data shape for DDIM sampling is (5, 4, 64, 64), eta 0.0\n",
      "Running DDIM Sampling with 20 timesteps\n"
     ]
    },
    {
     "name": "stderr",
     "output_type": "stream",
     "text": [
      "DDIM Sampler: 100%|█| 20/20 [00:20<00:\n",
      "Global seed set to 31808\n"
     ]
    },
    {
     "name": "stdout",
     "output_type": "stream",
     "text": [
      "Data shape for DDIM sampling is (5, 4, 64, 64), eta 0.0\n",
      "Running DDIM Sampling with 20 timesteps\n"
     ]
    },
    {
     "name": "stderr",
     "output_type": "stream",
     "text": [
      "DDIM Sampler: 100%|█| 20/20 [00:20<00:\n",
      "Global seed set to 33281\n"
     ]
    },
    {
     "name": "stdout",
     "output_type": "stream",
     "text": [
      "Data shape for DDIM sampling is (5, 4, 64, 64), eta 0.0\n",
      "Running DDIM Sampling with 20 timesteps\n"
     ]
    },
    {
     "name": "stderr",
     "output_type": "stream",
     "text": [
      "DDIM Sampler: 100%|█| 20/20 [00:16<00:\n",
      "Global seed set to 9181\n"
     ]
    },
    {
     "name": "stdout",
     "output_type": "stream",
     "text": [
      "Data shape for DDIM sampling is (5, 4, 64, 64), eta 0.0\n",
      "Running DDIM Sampling with 20 timesteps\n"
     ]
    },
    {
     "name": "stderr",
     "output_type": "stream",
     "text": [
      "DDIM Sampler: 100%|█| 20/20 [00:16<00:\n",
      "Global seed set to 64188\n"
     ]
    },
    {
     "name": "stdout",
     "output_type": "stream",
     "text": [
      "Data shape for DDIM sampling is (5, 4, 64, 64), eta 0.0\n",
      "Running DDIM Sampling with 20 timesteps\n"
     ]
    },
    {
     "name": "stderr",
     "output_type": "stream",
     "text": [
      "DDIM Sampler: 100%|█| 20/20 [00:16<00:\n",
      "Global seed set to 10533\n"
     ]
    },
    {
     "name": "stdout",
     "output_type": "stream",
     "text": [
      "Data shape for DDIM sampling is (5, 4, 64, 64), eta 0.0\n",
      "Running DDIM Sampling with 20 timesteps\n"
     ]
    },
    {
     "name": "stderr",
     "output_type": "stream",
     "text": [
      "DDIM Sampler: 100%|█| 20/20 [00:16<00:\n",
      "Global seed set to 31808\n"
     ]
    },
    {
     "name": "stdout",
     "output_type": "stream",
     "text": [
      "Data shape for DDIM sampling is (5, 4, 64, 64), eta 0.0\n",
      "Running DDIM Sampling with 20 timesteps\n"
     ]
    },
    {
     "name": "stderr",
     "output_type": "stream",
     "text": [
      "DDIM Sampler: 100%|█| 20/20 [00:16<00:\n",
      "Global seed set to 33281\n"
     ]
    },
    {
     "name": "stdout",
     "output_type": "stream",
     "text": [
      "Data shape for DDIM sampling is (5, 4, 64, 64), eta 0.0\n",
      "Running DDIM Sampling with 20 timesteps\n"
     ]
    },
    {
     "name": "stderr",
     "output_type": "stream",
     "text": [
      "DDIM Sampler: 100%|█| 20/20 [00:16<00:\n",
      "Global seed set to 9181\n"
     ]
    },
    {
     "name": "stdout",
     "output_type": "stream",
     "text": [
      "Data shape for DDIM sampling is (5, 4, 64, 64), eta 0.0\n",
      "Running DDIM Sampling with 20 timesteps\n"
     ]
    },
    {
     "name": "stderr",
     "output_type": "stream",
     "text": [
      "DDIM Sampler: 100%|█| 20/20 [00:16<00:\n",
      "Global seed set to 64188\n"
     ]
    },
    {
     "name": "stdout",
     "output_type": "stream",
     "text": [
      "a woman, standing in a jungle,computer graphics\n",
      "Data shape for DDIM sampling is (5, 4, 64, 64), eta 0.0\n",
      "Running DDIM Sampling with 20 timesteps\n"
     ]
    },
    {
     "name": "stderr",
     "output_type": "stream",
     "text": [
      "DDIM Sampler: 100%|█| 20/20 [00:16<00:\n",
      "Global seed set to 10533\n"
     ]
    },
    {
     "name": "stdout",
     "output_type": "stream",
     "text": [
      "Data shape for DDIM sampling is (5, 4, 64, 64), eta 0.0\n",
      "Running DDIM Sampling with 20 timesteps\n"
     ]
    },
    {
     "name": "stderr",
     "output_type": "stream",
     "text": [
      "DDIM Sampler: 100%|█| 20/20 [00:16<00:\n",
      "Global seed set to 31808\n"
     ]
    },
    {
     "name": "stdout",
     "output_type": "stream",
     "text": [
      "Data shape for DDIM sampling is (5, 4, 64, 64), eta 0.0\n",
      "Running DDIM Sampling with 20 timesteps\n"
     ]
    },
    {
     "name": "stderr",
     "output_type": "stream",
     "text": [
      "DDIM Sampler: 100%|█| 20/20 [00:16<00:\n",
      "Global seed set to 33281\n"
     ]
    },
    {
     "name": "stdout",
     "output_type": "stream",
     "text": [
      "Data shape for DDIM sampling is (5, 4, 64, 64), eta 0.0\n",
      "Running DDIM Sampling with 20 timesteps\n"
     ]
    },
    {
     "name": "stderr",
     "output_type": "stream",
     "text": [
      "DDIM Sampler: 100%|█| 20/20 [00:16<00:\n",
      "Global seed set to 9181\n"
     ]
    },
    {
     "name": "stdout",
     "output_type": "stream",
     "text": [
      "Data shape for DDIM sampling is (5, 4, 64, 64), eta 0.0\n",
      "Running DDIM Sampling with 20 timesteps\n"
     ]
    },
    {
     "name": "stderr",
     "output_type": "stream",
     "text": [
      "DDIM Sampler: 100%|█| 20/20 [00:16<00:\n",
      "Global seed set to 64188\n"
     ]
    },
    {
     "name": "stdout",
     "output_type": "stream",
     "text": [
      "Data shape for DDIM sampling is (5, 4, 64, 64), eta 0.0\n",
      "Running DDIM Sampling with 20 timesteps\n"
     ]
    },
    {
     "name": "stderr",
     "output_type": "stream",
     "text": [
      "DDIM Sampler: 100%|█| 20/20 [00:16<00:\n",
      "Global seed set to 10533\n"
     ]
    },
    {
     "name": "stdout",
     "output_type": "stream",
     "text": [
      "Data shape for DDIM sampling is (5, 4, 64, 64), eta 0.0\n",
      "Running DDIM Sampling with 20 timesteps\n"
     ]
    },
    {
     "name": "stderr",
     "output_type": "stream",
     "text": [
      "DDIM Sampler: 100%|█| 20/20 [00:16<00:\n",
      "Global seed set to 31808\n"
     ]
    },
    {
     "name": "stdout",
     "output_type": "stream",
     "text": [
      "Data shape for DDIM sampling is (5, 4, 64, 64), eta 0.0\n",
      "Running DDIM Sampling with 20 timesteps\n"
     ]
    },
    {
     "name": "stderr",
     "output_type": "stream",
     "text": [
      "DDIM Sampler: 100%|█| 20/20 [00:16<00:\n",
      "Global seed set to 33281\n"
     ]
    },
    {
     "name": "stdout",
     "output_type": "stream",
     "text": [
      "Data shape for DDIM sampling is (5, 4, 64, 64), eta 0.0\n",
      "Running DDIM Sampling with 20 timesteps\n"
     ]
    },
    {
     "name": "stderr",
     "output_type": "stream",
     "text": [
      "DDIM Sampler: 100%|█| 20/20 [00:16<00:\n",
      "Global seed set to 9181\n"
     ]
    },
    {
     "name": "stdout",
     "output_type": "stream",
     "text": [
      "Data shape for DDIM sampling is (5, 4, 64, 64), eta 0.0\n",
      "Running DDIM Sampling with 20 timesteps\n"
     ]
    },
    {
     "name": "stderr",
     "output_type": "stream",
     "text": [
      "DDIM Sampler: 100%|█| 20/20 [00:16<00:\n",
      "Global seed set to 64188\n"
     ]
    },
    {
     "name": "stdout",
     "output_type": "stream",
     "text": [
      "kids drawing\n",
      "a woman, ,kids drawing\n",
      "Data shape for DDIM sampling is (5, 4, 64, 64), eta 0.0\n",
      "Running DDIM Sampling with 20 timesteps\n"
     ]
    },
    {
     "name": "stderr",
     "output_type": "stream",
     "text": [
      "DDIM Sampler: 100%|█| 20/20 [00:16<00:\n",
      "Global seed set to 10533\n"
     ]
    },
    {
     "name": "stdout",
     "output_type": "stream",
     "text": [
      "Data shape for DDIM sampling is (5, 4, 64, 64), eta 0.0\n",
      "Running DDIM Sampling with 20 timesteps\n"
     ]
    },
    {
     "name": "stderr",
     "output_type": "stream",
     "text": [
      "DDIM Sampler: 100%|█| 20/20 [00:16<00:\n",
      "Global seed set to 31808\n"
     ]
    },
    {
     "name": "stdout",
     "output_type": "stream",
     "text": [
      "Data shape for DDIM sampling is (5, 4, 64, 64), eta 0.0\n",
      "Running DDIM Sampling with 20 timesteps\n"
     ]
    },
    {
     "name": "stderr",
     "output_type": "stream",
     "text": [
      "DDIM Sampler: 100%|█| 20/20 [00:16<00:\n",
      "Global seed set to 33281\n"
     ]
    },
    {
     "name": "stdout",
     "output_type": "stream",
     "text": [
      "Data shape for DDIM sampling is (5, 4, 64, 64), eta 0.0\n",
      "Running DDIM Sampling with 20 timesteps\n"
     ]
    },
    {
     "name": "stderr",
     "output_type": "stream",
     "text": [
      "DDIM Sampler: 100%|█| 20/20 [00:16<00:\n",
      "Global seed set to 9181\n"
     ]
    },
    {
     "name": "stdout",
     "output_type": "stream",
     "text": [
      "Data shape for DDIM sampling is (5, 4, 64, 64), eta 0.0\n",
      "Running DDIM Sampling with 20 timesteps\n"
     ]
    },
    {
     "name": "stderr",
     "output_type": "stream",
     "text": [
      "DDIM Sampler: 100%|█| 20/20 [00:16<00:\n",
      "Global seed set to 64188\n"
     ]
    },
    {
     "name": "stdout",
     "output_type": "stream",
     "text": [
      "Data shape for DDIM sampling is (5, 4, 64, 64), eta 0.0\n",
      "Running DDIM Sampling with 20 timesteps\n"
     ]
    },
    {
     "name": "stderr",
     "output_type": "stream",
     "text": [
      "DDIM Sampler: 100%|█| 20/20 [00:16<00:\n",
      "Global seed set to 10533\n"
     ]
    },
    {
     "name": "stdout",
     "output_type": "stream",
     "text": [
      "Data shape for DDIM sampling is (5, 4, 64, 64), eta 0.0\n",
      "Running DDIM Sampling with 20 timesteps\n"
     ]
    },
    {
     "name": "stderr",
     "output_type": "stream",
     "text": [
      "DDIM Sampler: 100%|█| 20/20 [00:16<00:\n",
      "Global seed set to 31808\n"
     ]
    },
    {
     "name": "stdout",
     "output_type": "stream",
     "text": [
      "Data shape for DDIM sampling is (5, 4, 64, 64), eta 0.0\n",
      "Running DDIM Sampling with 20 timesteps\n"
     ]
    },
    {
     "name": "stderr",
     "output_type": "stream",
     "text": [
      "DDIM Sampler: 100%|█| 20/20 [00:16<00:\n",
      "Global seed set to 33281\n"
     ]
    },
    {
     "name": "stdout",
     "output_type": "stream",
     "text": [
      "Data shape for DDIM sampling is (5, 4, 64, 64), eta 0.0\n",
      "Running DDIM Sampling with 20 timesteps\n"
     ]
    },
    {
     "name": "stderr",
     "output_type": "stream",
     "text": [
      "DDIM Sampler: 100%|█| 20/20 [00:16<00:\n",
      "Global seed set to 9181\n"
     ]
    },
    {
     "name": "stdout",
     "output_type": "stream",
     "text": [
      "Data shape for DDIM sampling is (5, 4, 64, 64), eta 0.0\n",
      "Running DDIM Sampling with 20 timesteps\n"
     ]
    },
    {
     "name": "stderr",
     "output_type": "stream",
     "text": [
      "DDIM Sampler: 100%|█| 20/20 [00:16<00:\n",
      "Global seed set to 64188\n"
     ]
    },
    {
     "name": "stdout",
     "output_type": "stream",
     "text": [
      "a woman, standing in a jungle,kids drawing\n",
      "Data shape for DDIM sampling is (5, 4, 64, 64), eta 0.0\n",
      "Running DDIM Sampling with 20 timesteps\n"
     ]
    },
    {
     "name": "stderr",
     "output_type": "stream",
     "text": [
      "DDIM Sampler: 100%|█| 20/20 [00:16<00:\n",
      "Global seed set to 10533\n"
     ]
    },
    {
     "name": "stdout",
     "output_type": "stream",
     "text": [
      "Data shape for DDIM sampling is (5, 4, 64, 64), eta 0.0\n",
      "Running DDIM Sampling with 20 timesteps\n"
     ]
    },
    {
     "name": "stderr",
     "output_type": "stream",
     "text": [
      "DDIM Sampler: 100%|█| 20/20 [00:16<00:\n",
      "Global seed set to 31808\n"
     ]
    },
    {
     "name": "stdout",
     "output_type": "stream",
     "text": [
      "Data shape for DDIM sampling is (5, 4, 64, 64), eta 0.0\n",
      "Running DDIM Sampling with 20 timesteps\n"
     ]
    },
    {
     "name": "stderr",
     "output_type": "stream",
     "text": [
      "DDIM Sampler: 100%|█| 20/20 [00:16<00:\n",
      "Global seed set to 33281\n"
     ]
    },
    {
     "name": "stdout",
     "output_type": "stream",
     "text": [
      "Data shape for DDIM sampling is (5, 4, 64, 64), eta 0.0\n",
      "Running DDIM Sampling with 20 timesteps\n"
     ]
    },
    {
     "name": "stderr",
     "output_type": "stream",
     "text": [
      "DDIM Sampler: 100%|█| 20/20 [00:16<00:\n",
      "Global seed set to 9181\n"
     ]
    },
    {
     "name": "stdout",
     "output_type": "stream",
     "text": [
      "Data shape for DDIM sampling is (5, 4, 64, 64), eta 0.0\n",
      "Running DDIM Sampling with 20 timesteps\n"
     ]
    },
    {
     "name": "stderr",
     "output_type": "stream",
     "text": [
      "DDIM Sampler: 100%|█| 20/20 [00:16<00:\n",
      "Global seed set to 64188\n"
     ]
    },
    {
     "name": "stdout",
     "output_type": "stream",
     "text": [
      "Data shape for DDIM sampling is (5, 4, 64, 64), eta 0.0\n",
      "Running DDIM Sampling with 20 timesteps\n"
     ]
    },
    {
     "name": "stderr",
     "output_type": "stream",
     "text": [
      "DDIM Sampler: 100%|█| 20/20 [00:16<00:\n",
      "Global seed set to 10533\n"
     ]
    },
    {
     "name": "stdout",
     "output_type": "stream",
     "text": [
      "Data shape for DDIM sampling is (5, 4, 64, 64), eta 0.0\n",
      "Running DDIM Sampling with 20 timesteps\n"
     ]
    },
    {
     "name": "stderr",
     "output_type": "stream",
     "text": [
      "DDIM Sampler: 100%|█| 20/20 [00:16<00:\n",
      "Global seed set to 31808\n"
     ]
    },
    {
     "name": "stdout",
     "output_type": "stream",
     "text": [
      "Data shape for DDIM sampling is (5, 4, 64, 64), eta 0.0\n",
      "Running DDIM Sampling with 20 timesteps\n"
     ]
    },
    {
     "name": "stderr",
     "output_type": "stream",
     "text": [
      "DDIM Sampler: 100%|█| 20/20 [00:16<00:\n",
      "Global seed set to 33281\n"
     ]
    },
    {
     "name": "stdout",
     "output_type": "stream",
     "text": [
      "Data shape for DDIM sampling is (5, 4, 64, 64), eta 0.0\n",
      "Running DDIM Sampling with 20 timesteps\n"
     ]
    },
    {
     "name": "stderr",
     "output_type": "stream",
     "text": [
      "DDIM Sampler: 100%|█| 20/20 [00:16<00:\n",
      "Global seed set to 9181\n"
     ]
    },
    {
     "name": "stdout",
     "output_type": "stream",
     "text": [
      "Data shape for DDIM sampling is (5, 4, 64, 64), eta 0.0\n",
      "Running DDIM Sampling with 20 timesteps\n"
     ]
    },
    {
     "name": "stderr",
     "output_type": "stream",
     "text": [
      "DDIM Sampler: 100%|█| 20/20 [00:16<00:\n",
      "Global seed set to 64188\n"
     ]
    },
    {
     "name": "stdout",
     "output_type": "stream",
     "text": [
      "cyberpunk japanese anime\n",
      "a woman, ,cyberpunk japanese anime\n",
      "Data shape for DDIM sampling is (5, 4, 64, 64), eta 0.0\n",
      "Running DDIM Sampling with 20 timesteps\n"
     ]
    },
    {
     "name": "stderr",
     "output_type": "stream",
     "text": [
      "DDIM Sampler: 100%|█| 20/20 [00:16<00:\n",
      "Global seed set to 10533\n"
     ]
    },
    {
     "name": "stdout",
     "output_type": "stream",
     "text": [
      "Data shape for DDIM sampling is (5, 4, 64, 64), eta 0.0\n",
      "Running DDIM Sampling with 20 timesteps\n"
     ]
    },
    {
     "name": "stderr",
     "output_type": "stream",
     "text": [
      "DDIM Sampler: 100%|█| 20/20 [00:16<00:\n",
      "Global seed set to 31808\n"
     ]
    },
    {
     "name": "stdout",
     "output_type": "stream",
     "text": [
      "Data shape for DDIM sampling is (5, 4, 64, 64), eta 0.0\n",
      "Running DDIM Sampling with 20 timesteps\n"
     ]
    },
    {
     "name": "stderr",
     "output_type": "stream",
     "text": [
      "DDIM Sampler: 100%|█| 20/20 [00:16<00:\n",
      "Global seed set to 33281\n"
     ]
    },
    {
     "name": "stdout",
     "output_type": "stream",
     "text": [
      "Data shape for DDIM sampling is (5, 4, 64, 64), eta 0.0\n",
      "Running DDIM Sampling with 20 timesteps\n"
     ]
    },
    {
     "name": "stderr",
     "output_type": "stream",
     "text": [
      "DDIM Sampler: 100%|█| 20/20 [00:16<00:\n",
      "Global seed set to 9181\n"
     ]
    },
    {
     "name": "stdout",
     "output_type": "stream",
     "text": [
      "Data shape for DDIM sampling is (5, 4, 64, 64), eta 0.0\n",
      "Running DDIM Sampling with 20 timesteps\n"
     ]
    },
    {
     "name": "stderr",
     "output_type": "stream",
     "text": [
      "DDIM Sampler: 100%|█| 20/20 [00:16<00:\n",
      "Global seed set to 64188\n"
     ]
    },
    {
     "name": "stdout",
     "output_type": "stream",
     "text": [
      "Data shape for DDIM sampling is (5, 4, 64, 64), eta 0.0\n",
      "Running DDIM Sampling with 20 timesteps\n"
     ]
    },
    {
     "name": "stderr",
     "output_type": "stream",
     "text": [
      "DDIM Sampler: 100%|█| 20/20 [00:16<00:\n",
      "Global seed set to 10533\n"
     ]
    },
    {
     "name": "stdout",
     "output_type": "stream",
     "text": [
      "Data shape for DDIM sampling is (5, 4, 64, 64), eta 0.0\n",
      "Running DDIM Sampling with 20 timesteps\n"
     ]
    },
    {
     "name": "stderr",
     "output_type": "stream",
     "text": [
      "DDIM Sampler: 100%|█| 20/20 [00:16<00:\n",
      "Global seed set to 31808\n"
     ]
    },
    {
     "name": "stdout",
     "output_type": "stream",
     "text": [
      "Data shape for DDIM sampling is (5, 4, 64, 64), eta 0.0\n",
      "Running DDIM Sampling with 20 timesteps\n"
     ]
    },
    {
     "name": "stderr",
     "output_type": "stream",
     "text": [
      "DDIM Sampler: 100%|█| 20/20 [00:16<00:\n",
      "Global seed set to 33281\n"
     ]
    },
    {
     "name": "stdout",
     "output_type": "stream",
     "text": [
      "Data shape for DDIM sampling is (5, 4, 64, 64), eta 0.0\n",
      "Running DDIM Sampling with 20 timesteps\n"
     ]
    },
    {
     "name": "stderr",
     "output_type": "stream",
     "text": [
      "DDIM Sampler: 100%|█| 20/20 [00:16<00:\n",
      "Global seed set to 9181\n"
     ]
    },
    {
     "name": "stdout",
     "output_type": "stream",
     "text": [
      "Data shape for DDIM sampling is (5, 4, 64, 64), eta 0.0\n",
      "Running DDIM Sampling with 20 timesteps\n"
     ]
    },
    {
     "name": "stderr",
     "output_type": "stream",
     "text": [
      "DDIM Sampler: 100%|█| 20/20 [00:16<00:\n",
      "Global seed set to 64188\n"
     ]
    },
    {
     "name": "stdout",
     "output_type": "stream",
     "text": [
      "a woman, standing in a jungle,cyberpunk japanese anime\n",
      "Data shape for DDIM sampling is (5, 4, 64, 64), eta 0.0\n",
      "Running DDIM Sampling with 20 timesteps\n"
     ]
    },
    {
     "name": "stderr",
     "output_type": "stream",
     "text": [
      "DDIM Sampler: 100%|█| 20/20 [00:16<00:\n",
      "Global seed set to 10533\n"
     ]
    },
    {
     "name": "stdout",
     "output_type": "stream",
     "text": [
      "Data shape for DDIM sampling is (5, 4, 64, 64), eta 0.0\n",
      "Running DDIM Sampling with 20 timesteps\n"
     ]
    },
    {
     "name": "stderr",
     "output_type": "stream",
     "text": [
      "DDIM Sampler: 100%|█| 20/20 [00:16<00:\n",
      "Global seed set to 31808\n"
     ]
    },
    {
     "name": "stdout",
     "output_type": "stream",
     "text": [
      "Data shape for DDIM sampling is (5, 4, 64, 64), eta 0.0\n",
      "Running DDIM Sampling with 20 timesteps\n"
     ]
    },
    {
     "name": "stderr",
     "output_type": "stream",
     "text": [
      "DDIM Sampler: 100%|█| 20/20 [00:16<00:\n",
      "Global seed set to 33281\n"
     ]
    },
    {
     "name": "stdout",
     "output_type": "stream",
     "text": [
      "Data shape for DDIM sampling is (5, 4, 64, 64), eta 0.0\n",
      "Running DDIM Sampling with 20 timesteps\n"
     ]
    },
    {
     "name": "stderr",
     "output_type": "stream",
     "text": [
      "DDIM Sampler: 100%|█| 20/20 [00:16<00:\n",
      "Global seed set to 9181\n"
     ]
    },
    {
     "name": "stdout",
     "output_type": "stream",
     "text": [
      "Data shape for DDIM sampling is (5, 4, 64, 64), eta 0.0\n",
      "Running DDIM Sampling with 20 timesteps\n"
     ]
    },
    {
     "name": "stderr",
     "output_type": "stream",
     "text": [
      "DDIM Sampler: 100%|█| 20/20 [00:16<00:\n",
      "Global seed set to 64188\n"
     ]
    },
    {
     "name": "stdout",
     "output_type": "stream",
     "text": [
      "Data shape for DDIM sampling is (5, 4, 64, 64), eta 0.0\n",
      "Running DDIM Sampling with 20 timesteps\n"
     ]
    },
    {
     "name": "stderr",
     "output_type": "stream",
     "text": [
      "DDIM Sampler: 100%|█| 20/20 [00:16<00:\n",
      "Global seed set to 10533\n"
     ]
    },
    {
     "name": "stdout",
     "output_type": "stream",
     "text": [
      "Data shape for DDIM sampling is (5, 4, 64, 64), eta 0.0\n",
      "Running DDIM Sampling with 20 timesteps\n"
     ]
    },
    {
     "name": "stderr",
     "output_type": "stream",
     "text": [
      "DDIM Sampler: 100%|█| 20/20 [00:16<00:\n",
      "Global seed set to 31808\n"
     ]
    },
    {
     "name": "stdout",
     "output_type": "stream",
     "text": [
      "Data shape for DDIM sampling is (5, 4, 64, 64), eta 0.0\n",
      "Running DDIM Sampling with 20 timesteps\n"
     ]
    },
    {
     "name": "stderr",
     "output_type": "stream",
     "text": [
      "DDIM Sampler: 100%|█| 20/20 [00:16<00:\n",
      "Global seed set to 33281\n"
     ]
    },
    {
     "name": "stdout",
     "output_type": "stream",
     "text": [
      "Data shape for DDIM sampling is (5, 4, 64, 64), eta 0.0\n",
      "Running DDIM Sampling with 20 timesteps\n"
     ]
    },
    {
     "name": "stderr",
     "output_type": "stream",
     "text": [
      "DDIM Sampler: 100%|█| 20/20 [00:16<00:\n",
      "Global seed set to 9181\n"
     ]
    },
    {
     "name": "stdout",
     "output_type": "stream",
     "text": [
      "Data shape for DDIM sampling is (5, 4, 64, 64), eta 0.0\n",
      "Running DDIM Sampling with 20 timesteps\n"
     ]
    },
    {
     "name": "stderr",
     "output_type": "stream",
     "text": [
      "DDIM Sampler: 100%|█| 20/20 [00:16<00:\n",
      "Global seed set to 64188\n"
     ]
    },
    {
     "name": "stdout",
     "output_type": "stream",
     "text": [
      "grunge street art\n",
      "a woman, ,grunge street art\n",
      "Data shape for DDIM sampling is (5, 4, 64, 64), eta 0.0\n",
      "Running DDIM Sampling with 20 timesteps\n"
     ]
    },
    {
     "name": "stderr",
     "output_type": "stream",
     "text": [
      "DDIM Sampler: 100%|█| 20/20 [00:16<00:\n",
      "Global seed set to 10533\n"
     ]
    },
    {
     "name": "stdout",
     "output_type": "stream",
     "text": [
      "Data shape for DDIM sampling is (5, 4, 64, 64), eta 0.0\n",
      "Running DDIM Sampling with 20 timesteps\n"
     ]
    },
    {
     "name": "stderr",
     "output_type": "stream",
     "text": [
      "DDIM Sampler: 100%|█| 20/20 [00:16<00:\n",
      "Global seed set to 31808\n"
     ]
    },
    {
     "name": "stdout",
     "output_type": "stream",
     "text": [
      "Data shape for DDIM sampling is (5, 4, 64, 64), eta 0.0\n",
      "Running DDIM Sampling with 20 timesteps\n"
     ]
    },
    {
     "name": "stderr",
     "output_type": "stream",
     "text": [
      "DDIM Sampler: 100%|█| 20/20 [00:16<00:\n",
      "Global seed set to 33281\n"
     ]
    },
    {
     "name": "stdout",
     "output_type": "stream",
     "text": [
      "Data shape for DDIM sampling is (5, 4, 64, 64), eta 0.0\n",
      "Running DDIM Sampling with 20 timesteps\n"
     ]
    },
    {
     "name": "stderr",
     "output_type": "stream",
     "text": [
      "DDIM Sampler: 100%|█| 20/20 [00:16<00:\n",
      "Global seed set to 9181\n"
     ]
    },
    {
     "name": "stdout",
     "output_type": "stream",
     "text": [
      "Data shape for DDIM sampling is (5, 4, 64, 64), eta 0.0\n",
      "Running DDIM Sampling with 20 timesteps\n"
     ]
    },
    {
     "name": "stderr",
     "output_type": "stream",
     "text": [
      "DDIM Sampler: 100%|█| 20/20 [00:16<00:\n",
      "Global seed set to 64188\n"
     ]
    },
    {
     "name": "stdout",
     "output_type": "stream",
     "text": [
      "Data shape for DDIM sampling is (5, 4, 64, 64), eta 0.0\n",
      "Running DDIM Sampling with 20 timesteps\n"
     ]
    },
    {
     "name": "stderr",
     "output_type": "stream",
     "text": [
      "DDIM Sampler: 100%|█| 20/20 [00:16<00:\n",
      "Global seed set to 10533\n"
     ]
    },
    {
     "name": "stdout",
     "output_type": "stream",
     "text": [
      "Data shape for DDIM sampling is (5, 4, 64, 64), eta 0.0\n",
      "Running DDIM Sampling with 20 timesteps\n"
     ]
    },
    {
     "name": "stderr",
     "output_type": "stream",
     "text": [
      "DDIM Sampler: 100%|█| 20/20 [00:16<00:\n",
      "Global seed set to 31808\n"
     ]
    },
    {
     "name": "stdout",
     "output_type": "stream",
     "text": [
      "Data shape for DDIM sampling is (5, 4, 64, 64), eta 0.0\n",
      "Running DDIM Sampling with 20 timesteps\n"
     ]
    },
    {
     "name": "stderr",
     "output_type": "stream",
     "text": [
      "DDIM Sampler: 100%|█| 20/20 [00:16<00:\n",
      "Global seed set to 33281\n"
     ]
    },
    {
     "name": "stdout",
     "output_type": "stream",
     "text": [
      "Data shape for DDIM sampling is (5, 4, 64, 64), eta 0.0\n",
      "Running DDIM Sampling with 20 timesteps\n"
     ]
    },
    {
     "name": "stderr",
     "output_type": "stream",
     "text": [
      "DDIM Sampler: 100%|█| 20/20 [00:16<00:\n",
      "Global seed set to 9181\n"
     ]
    },
    {
     "name": "stdout",
     "output_type": "stream",
     "text": [
      "Data shape for DDIM sampling is (5, 4, 64, 64), eta 0.0\n",
      "Running DDIM Sampling with 20 timesteps\n"
     ]
    },
    {
     "name": "stderr",
     "output_type": "stream",
     "text": [
      "DDIM Sampler: 100%|█| 20/20 [00:16<00:\n",
      "Global seed set to 64188\n"
     ]
    },
    {
     "name": "stdout",
     "output_type": "stream",
     "text": [
      "a woman, standing in a jungle,grunge street art\n",
      "Data shape for DDIM sampling is (5, 4, 64, 64), eta 0.0\n",
      "Running DDIM Sampling with 20 timesteps\n"
     ]
    },
    {
     "name": "stderr",
     "output_type": "stream",
     "text": [
      "DDIM Sampler: 100%|█| 20/20 [00:16<00:\n",
      "Global seed set to 10533\n"
     ]
    },
    {
     "name": "stdout",
     "output_type": "stream",
     "text": [
      "Data shape for DDIM sampling is (5, 4, 64, 64), eta 0.0\n",
      "Running DDIM Sampling with 20 timesteps\n"
     ]
    },
    {
     "name": "stderr",
     "output_type": "stream",
     "text": [
      "DDIM Sampler: 100%|█| 20/20 [00:16<00:\n",
      "Global seed set to 31808\n"
     ]
    },
    {
     "name": "stdout",
     "output_type": "stream",
     "text": [
      "Data shape for DDIM sampling is (5, 4, 64, 64), eta 0.0\n",
      "Running DDIM Sampling with 20 timesteps\n"
     ]
    },
    {
     "name": "stderr",
     "output_type": "stream",
     "text": [
      "DDIM Sampler: 100%|█| 20/20 [00:16<00:\n",
      "Global seed set to 33281\n"
     ]
    },
    {
     "name": "stdout",
     "output_type": "stream",
     "text": [
      "Data shape for DDIM sampling is (5, 4, 64, 64), eta 0.0\n",
      "Running DDIM Sampling with 20 timesteps\n"
     ]
    },
    {
     "name": "stderr",
     "output_type": "stream",
     "text": [
      "DDIM Sampler: 100%|█| 20/20 [00:16<00:\n",
      "Global seed set to 9181\n"
     ]
    },
    {
     "name": "stdout",
     "output_type": "stream",
     "text": [
      "Data shape for DDIM sampling is (5, 4, 64, 64), eta 0.0\n",
      "Running DDIM Sampling with 20 timesteps\n"
     ]
    },
    {
     "name": "stderr",
     "output_type": "stream",
     "text": [
      "DDIM Sampler: 100%|█| 20/20 [00:16<00:\n",
      "Global seed set to 64188\n"
     ]
    },
    {
     "name": "stdout",
     "output_type": "stream",
     "text": [
      "Data shape for DDIM sampling is (5, 4, 64, 64), eta 0.0\n",
      "Running DDIM Sampling with 20 timesteps\n"
     ]
    },
    {
     "name": "stderr",
     "output_type": "stream",
     "text": [
      "DDIM Sampler: 100%|█| 20/20 [00:16<00:\n",
      "Global seed set to 10533\n"
     ]
    },
    {
     "name": "stdout",
     "output_type": "stream",
     "text": [
      "Data shape for DDIM sampling is (5, 4, 64, 64), eta 0.0\n",
      "Running DDIM Sampling with 20 timesteps\n"
     ]
    },
    {
     "name": "stderr",
     "output_type": "stream",
     "text": [
      "DDIM Sampler: 100%|█| 20/20 [00:16<00:\n",
      "Global seed set to 31808\n"
     ]
    },
    {
     "name": "stdout",
     "output_type": "stream",
     "text": [
      "Data shape for DDIM sampling is (5, 4, 64, 64), eta 0.0\n",
      "Running DDIM Sampling with 20 timesteps\n"
     ]
    },
    {
     "name": "stderr",
     "output_type": "stream",
     "text": [
      "DDIM Sampler: 100%|█| 20/20 [00:16<00:\n",
      "Global seed set to 33281\n"
     ]
    },
    {
     "name": "stdout",
     "output_type": "stream",
     "text": [
      "Data shape for DDIM sampling is (5, 4, 64, 64), eta 0.0\n",
      "Running DDIM Sampling with 20 timesteps\n"
     ]
    },
    {
     "name": "stderr",
     "output_type": "stream",
     "text": [
      "DDIM Sampler: 100%|█| 20/20 [00:16<00:\n",
      "Global seed set to 9181\n"
     ]
    },
    {
     "name": "stdout",
     "output_type": "stream",
     "text": [
      "Data shape for DDIM sampling is (5, 4, 64, 64), eta 0.0\n",
      "Running DDIM Sampling with 20 timesteps\n"
     ]
    },
    {
     "name": "stderr",
     "output_type": "stream",
     "text": [
      "DDIM Sampler: 100%|█| 20/20 [00:16<00:\n"
     ]
    }
   ],
   "source": [
    "for image_style in tqdm(image_styles[:]):\n",
    "    for sub_id, subfolder in enumerate(subfolders[1:]):\n",
    "        s = image_style.replace(' ','_')\n",
    "        save_root = output_dir/s/subfolder\n",
    "        os.makedirs(str(save_root), exist_ok=True)\n",
    "        save_id = 0\n",
    "        prompt = person_texts[sub_id]+','+image_style\n",
    "        print(prompt)\n",
    "        if subfolder=='baseline':\n",
    "            strength = baseline_strength[image_style]\n",
    "        else:\n",
    "            strength = clothing_strength[image_style]            \n",
    "        for _ in range(n_loops):\n",
    "            images = process(input_image, prompt, a_prompt, n_prompt, num_samples, image_resolution, detect_resolution, ddim_steps, guess_mode, strength, scale, seed, eta, mask_enables, mask_image, pose_image, df_longname)            \n",
    "            for k, image in enumerate(images):\n",
    "                \n",
    "                fname = save_root/f'{save_id}.png'\n",
    "                image.save(fname)           \n",
    "                save_id+=1\n"
   ]
  }
 ],
 "metadata": {
  "kernelspec": {
   "display_name": "ldm",
   "language": "python",
   "name": "ldm"
  },
  "language_info": {
   "codemirror_mode": {
    "name": "ipython",
    "version": 3
   },
   "file_extension": ".py",
   "mimetype": "text/x-python",
   "name": "python",
   "nbconvert_exporter": "python",
   "pygments_lexer": "ipython3",
   "version": "3.8.5"
  }
 },
 "nbformat": 4,
 "nbformat_minor": 5
}

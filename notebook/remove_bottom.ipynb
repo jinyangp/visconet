{
 "cells": [
  {
   "cell_type": "code",
   "execution_count": 13,
   "id": "71bb082c",
   "metadata": {},
   "outputs": [],
   "source": [
    "from glob import glob\n",
    "import filecmp\n",
    "import os\n",
    "from pathlib import Path"
   ]
  },
  {
   "cell_type": "code",
   "execution_count": 6,
   "id": "3782fca5",
   "metadata": {},
   "outputs": [],
   "source": [
    "root = '/home/soon/datasets/deepfashion_inshop/styles_default'"
   ]
  },
  {
   "cell_type": "code",
   "execution_count": 7,
   "id": "3f601059",
   "metadata": {},
   "outputs": [],
   "source": [
    "def find_leaf_folders(root_dir):\n",
    "    leaf_folders = []\n",
    "    for foldername, subfolders, files in os.walk(root_dir):\n",
    "        if not subfolders:\n",
    "            leaf_folders.append(foldername)\n",
    "    return leaf_folders\n",
    "leaf_folders = find_leaf_folders(root)"
   ]
  },
  {
   "cell_type": "code",
   "execution_count": 28,
   "id": "94b3467a",
   "metadata": {},
   "outputs": [],
   "source": [
    "duplicate_bottoms = []\n",
    "for folder in leaf_folders[:]:\n",
    "    top = Path(folder)/'top.jpg'\n",
    "    bottom = Path(folder)/'bottom.jpg'\n",
    "    if top.is_file() and bottom.is_file():\n",
    "        if filecmp.cmp(top, bottom):\n",
    "            duplicate_bottoms.append(folder)   \n",
    "            os.remove(os.path.join(folder, 'bottom.jpg'))\n",
    "            os.remove(os.path.join(folder, 'bottom.p'))\n",
    "            os.remove(os.path.join(folder, 'bottom_hidden.p'))"
   ]
  },
  {
   "cell_type": "code",
   "execution_count": 27,
   "id": "794c70a6",
   "metadata": {},
   "outputs": [],
   "source": [
    "with open('duplicate_bottom.txt', 'w') as file:\n",
    "    for bottom in duplicate_bottoms:\n",
    "        file.write(bottom.replace(root,'') + '\\n')"
   ]
  },
  {
   "cell_type": "code",
   "execution_count": 23,
   "id": "d7e7ecd6",
   "metadata": {},
   "outputs": [
    {
     "data": {
      "text/plain": [
       "0.12755509421909933"
      ]
     },
     "execution_count": 23,
     "metadata": {},
     "output_type": "execute_result"
    }
   ],
   "source": [
    "len(duplicate_bottoms)/len(leaf_folders)"
   ]
  },
  {
   "cell_type": "code",
   "execution_count": null,
   "id": "95e3e0b3",
   "metadata": {},
   "outputs": [],
   "source": []
  }
 ],
 "metadata": {
  "kernelspec": {
   "display_name": "ldm",
   "language": "python",
   "name": "ldm"
  },
  "language_info": {
   "codemirror_mode": {
    "name": "ipython",
    "version": 3
   },
   "file_extension": ".py",
   "mimetype": "text/x-python",
   "name": "python",
   "nbconvert_exporter": "python",
   "pygments_lexer": "ipython3",
   "version": "3.8.5"
  }
 },
 "nbformat": 4,
 "nbformat_minor": 5
}

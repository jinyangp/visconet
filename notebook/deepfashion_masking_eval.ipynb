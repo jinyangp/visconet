{
 "cells": [
  {
   "cell_type": "code",
   "execution_count": 1,
   "id": "e4abe607",
   "metadata": {},
   "outputs": [
    {
     "name": "stderr",
     "output_type": "stream",
     "text": [
      "/home/soon/.local/lib/python3.8/site-packages/tqdm/auto.py:21: TqdmWarning: IProgress not found. Please update jupyter and ipywidgets. See https://ipywidgets.readthedocs.io/en/stable/user_install.html\n",
      "  from .autonotebook import tqdm as notebook_tqdm\n"
     ]
    }
   ],
   "source": [
    "from PIL import Image\n",
    "from glob import glob\n",
    "import numpy as np\n",
    "import matplotlib.pyplot as plt\n",
    "from glob import glob\n",
    "from pathlib import Path\n",
    "import os\n",
    "from tqdm import tqdm\n",
    "import cv2\n",
    "from torchvision import transforms as T\n",
    "from pytorch_msssim import ssim, ms_ssim\n",
    "import lpips"
   ]
  },
  {
   "cell_type": "code",
   "execution_count": 2,
   "id": "729f5afa",
   "metadata": {},
   "outputs": [
    {
     "name": "stdout",
     "output_type": "stream",
     "text": [
      "Setting up [LPIPS] perceptual loss: trunk [vgg], v[0.1], spatial [off]\n"
     ]
    },
    {
     "name": "stderr",
     "output_type": "stream",
     "text": [
      "/home/soon/.local/lib/python3.8/site-packages/torchvision/models/_utils.py:208: UserWarning: The parameter 'pretrained' is deprecated since 0.13 and will be removed in 0.15, please use 'weights' instead.\n",
      "  warnings.warn(\n",
      "/home/soon/.local/lib/python3.8/site-packages/torchvision/models/_utils.py:223: UserWarning: Arguments other than a weight enum or `None` for 'weights' are deprecated since 0.13 and will be removed in 0.15. The current behavior is equivalent to passing `weights=VGG16_Weights.IMAGENET1K_V1`. You can also use `weights=VGG16_Weights.DEFAULT` to get the most up-to-date weights.\n",
      "  warnings.warn(msg)\n"
     ]
    },
    {
     "name": "stdout",
     "output_type": "stream",
     "text": [
      "Loading model from: /home/soon/miniconda3/envs/disco/lib/python3.8/site-packages/lpips/weights/v0.1/vgg.pth\n"
     ]
    }
   ],
   "source": [
    "root = Path('../lightning_logs/inshop_2/')\n",
    "sample_mask_root = root/'samples_mask'\n",
    "sample_root = root/'samples'\n",
    "gt_mask_root = root/'gt_mask'\n",
    "gt_root = root/'gt'\n",
    "src_root = root/'src'\n",
    "\n",
    "masked_sample_root = root/'new_samples'\n",
    "os.makedirs(str(masked_sample_root), exist_ok=True)\n",
    "\n",
    "device='cuda:1'\n",
    "\n",
    "loss_fn_vgg = lpips.LPIPS(net='vgg').to(device)"
   ]
  },
  {
   "cell_type": "code",
   "execution_count": 6,
   "id": "7fb32f12",
   "metadata": {},
   "outputs": [
    {
     "data": {
      "text/plain": [
       "8107"
      ]
     },
     "execution_count": 6,
     "metadata": {},
     "output_type": "execute_result"
    }
   ],
   "source": [
    "sample_mask_files = glob(str(sample_mask_root/'*.png'),recursive=True)\n",
    "fnames = [os.path.basename(f) for f in sample_mask_files]\n",
    "len(fnames)"
   ]
  },
  {
   "cell_type": "code",
   "execution_count": 7,
   "id": "508bf838",
   "metadata": {},
   "outputs": [
    {
     "name": "stderr",
     "output_type": "stream",
     "text": [
      "100%|█████████████████████████████████████████████████████████████████████████████████████████| 8107/8107 [04:02<00:00, 33.43it/s]"
     ]
    },
    {
     "name": "stdout",
     "output_type": "stream",
     "text": [
      "SSIM 0.6649504051474501\n",
      "MSSIM 0.40103516117679405\n",
      "LPIPS 0.3312355726810276\n"
     ]
    },
    {
     "name": "stderr",
     "output_type": "stream",
     "text": [
      "\n"
     ]
    }
   ],
   "source": [
    "ssim_scores = []\n",
    "lpips_scores = []\n",
    "msssim_scores =[]\n",
    "\n",
    "for fname in tqdm(fnames[:]):\n",
    "    sample_mask = cv2.imread(str(sample_mask_root/fname))\n",
    "    sample = cv2.imread(str(sample_root/fname))\n",
    "    maskedImg = cv2.bitwise_and(src1=sample, src2=sample_mask)\n",
    "    \n",
    "    gt = cv2.imread(str(gt_root/fname))\n",
    "    #plt.imshow(gt[:,:,::-1])\n",
    "    #plt.show()\n",
    "    gt_mask = cv2.imread(str(gt_mask_root/fname), 0)    \n",
    "    bg_pixel = gt[gt_mask==1].mean(0)\n",
    "    gt[gt_mask!=0] = bg_pixel  \n",
    "    bg = cv2.bitwise_and(src1=gt, src2=~sample_mask)\n",
    "    new_sample = bg + maskedImg\n",
    "    cv2.imwrite(str(masked_sample_root/fname),new_sample)\n",
    "    #plt.imshow(new_sample[:,:,::-1])\n",
    "    #plt.show()\n",
    "    \n",
    "    gt_tensor = T.ToTensor()(gt).unsqueeze(0).to(device)\n",
    "    sample_tensor = T.ToTensor()(new_sample).unsqueeze(0).to(device)\n",
    "    \n",
    "    lpips_score = loss_fn_vgg(gt_tensor, sample_tensor).view(-1).detach().cpu().numpy().tolist()\n",
    "    lpips_scores.extend(lpips_score)\n",
    "    \n",
    "    \n",
    "    msssim_scores.extend(ms_ssim(gt_tensor, sample_tensor, data_range=1, size_average=False).cpu().numpy().tolist())\n",
    "    ssim_scores.extend(ssim(sample_tensor, gt_tensor, data_range=1, size_average=False).cpu().numpy().tolist())\n",
    "    \n",
    "print(\"SSIM\", np.mean(ssim_scores))    \n",
    "print(\"MSSIM\", np.mean(msssim_scores))\n",
    "print(\"LPIPS\", np.mean(lpips_scores))"
   ]
  },
  {
   "cell_type": "code",
   "execution_count": 8,
   "id": "b71cd0e3",
   "metadata": {},
   "outputs": [],
   "source": [
    "import pickle\n",
    "file_path = 'deepfashion_eval.p'\n",
    "with open(file_path, 'wb') as file:\n",
    "    pickle.dump({'ssim':ssim_scores, 'lpips':lpips_scores, 'mssim':msssim_scores}, file)"
   ]
  },
  {
   "cell_type": "code",
   "execution_count": null,
   "id": "6255c5ee",
   "metadata": {},
   "outputs": [],
   "source": []
  }
 ],
 "metadata": {
  "kernelspec": {
   "display_name": "disco",
   "language": "python",
   "name": "disco"
  },
  "language_info": {
   "codemirror_mode": {
    "name": "ipython",
    "version": 3
   },
   "file_extension": ".py",
   "mimetype": "text/x-python",
   "name": "python",
   "nbconvert_exporter": "python",
   "pygments_lexer": "ipython3",
   "version": "3.8.5"
  }
 },
 "nbformat": 4,
 "nbformat_minor": 5
}
